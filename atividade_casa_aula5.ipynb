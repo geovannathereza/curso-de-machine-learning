{
  "nbformat": 4,
  "nbformat_minor": 0,
  "metadata": {
    "colab": {
      "provenance": [],
      "authorship_tag": "ABX9TyNBj8CKvVBsjP3PN7aQMZ7n",
      "include_colab_link": true
    },
    "kernelspec": {
      "name": "python3",
      "display_name": "Python 3"
    },
    "language_info": {
      "name": "python"
    }
  },
  "cells": [
    {
      "cell_type": "markdown",
      "metadata": {
        "id": "view-in-github",
        "colab_type": "text"
      },
      "source": [
        "<a href=\"https://colab.research.google.com/github/geovannathereza/curso-de-machine-learning/blob/main/atividade_casa_aula5.ipynb\" target=\"_parent\"><img src=\"https://colab.research.google.com/assets/colab-badge.svg\" alt=\"Open In Colab\"/></a>"
      ]
    },
    {
      "cell_type": "code",
      "execution_count": 4,
      "metadata": {
        "id": "9FhLfJi8IrLL"
      },
      "outputs": [],
      "source": [
        "import numpy as np"
      ]
    },
    {
      "cell_type": "markdown",
      "source": [
        "arange"
      ],
      "metadata": {
        "id": "8q4lJjDUJ_Zm"
      }
    },
    {
      "cell_type": "code",
      "source": [
        "arr1 = np.arange(10)"
      ],
      "metadata": {
        "id": "c5YRLJjMJQZo"
      },
      "execution_count": null,
      "outputs": []
    },
    {
      "cell_type": "code",
      "source": [
        "arr2 = np.arange(10, 20)"
      ],
      "metadata": {
        "id": "nWhhM4NhJQhO"
      },
      "execution_count": null,
      "outputs": []
    },
    {
      "cell_type": "code",
      "source": [
        "arr3 = np.arange(10, 20, 2)"
      ],
      "metadata": {
        "id": "LaeGzIpDJabF"
      },
      "execution_count": null,
      "outputs": []
    },
    {
      "cell_type": "code",
      "source": [
        "arr4 = np.arange(10, 20, 1.4)"
      ],
      "metadata": {
        "id": "rD9vxTn0Jxb1"
      },
      "execution_count": null,
      "outputs": []
    },
    {
      "cell_type": "markdown",
      "source": [
        "linspace"
      ],
      "metadata": {
        "id": "4d8xhRBGKEPI"
      }
    },
    {
      "cell_type": "code",
      "source": [
        "arr5 = np.linspace(10, 20, 11)"
      ],
      "metadata": {
        "id": "ml3pBi9WKFm-"
      },
      "execution_count": null,
      "outputs": []
    },
    {
      "cell_type": "code",
      "source": [
        "arr6 = np.linspace(10, 20, 101)"
      ],
      "metadata": {
        "id": "Fvg585p-KZSq"
      },
      "execution_count": null,
      "outputs": []
    },
    {
      "cell_type": "code",
      "source": [
        "arr7 = np.linspace(0, np.pi, 100)"
      ],
      "metadata": {
        "id": "x4DQ2m0pKe5L"
      },
      "execution_count": null,
      "outputs": []
    },
    {
      "cell_type": "markdown",
      "source": [
        "Criando a primeira matriz\n"
      ],
      "metadata": {
        "id": "3zArfICeKrsh"
      }
    },
    {
      "cell_type": "code",
      "source": [
        "minhaMatriz = np.array([[1, 2, 3],\n",
        "                        [4, 5, 6]])"
      ],
      "metadata": {
        "id": "XuaftU--LyIz"
      },
      "execution_count": null,
      "outputs": []
    },
    {
      "cell_type": "markdown",
      "source": [
        "Lembrando que você pode escrever apenas assim"
      ],
      "metadata": {
        "id": "1vnllk0sMGhF"
      }
    },
    {
      "cell_type": "code",
      "source": [
        "minhaMatriz = np.array([[1, 2, 3], [4, 5, 6]])\n",
        "minhaMatriz"
      ],
      "metadata": {
        "colab": {
          "base_uri": "https://localhost:8080/"
        },
        "id": "MsSCj-a4MSmF",
        "outputId": "9a08c930-a29f-4dd2-caa4-5e4d072db90b"
      },
      "execution_count": null,
      "outputs": [
        {
          "output_type": "execute_result",
          "data": {
            "text/plain": [
              "array([[1, 2, 3],\n",
              "       [4, 5, 6]])"
            ]
          },
          "metadata": {},
          "execution_count": 12
        }
      ]
    },
    {
      "cell_type": "markdown",
      "source": [
        "Podemos criar uma matriz a partir de uma lista"
      ],
      "metadata": {
        "id": "Qag4h61MOVp8"
      }
    },
    {
      "cell_type": "code",
      "source": [
        "minhaLista = [[13, 81, 22], [0, 34, 59], [21, 48, 94]]"
      ],
      "metadata": {
        "id": "02CMQEmOOXXq"
      },
      "execution_count": null,
      "outputs": []
    },
    {
      "cell_type": "markdown",
      "source": [
        "Agora usaremos o np.matrix"
      ],
      "metadata": {
        "id": "SSjNGKsoSBqa"
      }
    },
    {
      "cell_type": "code",
      "source": [
        "minhaMatriz = np.matrix(minhaLista)\n",
        "minhaMatriz"
      ],
      "metadata": {
        "colab": {
          "base_uri": "https://localhost:8080/"
        },
        "id": "fNorUl0wSGi5",
        "outputId": "2b823a44-1ce1-4b49-e1ec-9266fbb3288d"
      },
      "execution_count": null,
      "outputs": [
        {
          "output_type": "execute_result",
          "data": {
            "text/plain": [
              "matrix([[13, 81, 22],\n",
              "        [ 0, 34, 59],\n",
              "        [21, 48, 94]])"
            ]
          },
          "metadata": {},
          "execution_count": 32
        }
      ]
    },
    {
      "cell_type": "markdown",
      "source": [
        "np.zeros: pode formar vetores e matrizes\n",
        "\n",
        "vetor:"
      ],
      "metadata": {
        "id": "9wq12bTHSRkm"
      }
    },
    {
      "cell_type": "code",
      "source": [
        "x = np.zeros(3)\n",
        "x"
      ],
      "metadata": {
        "colab": {
          "base_uri": "https://localhost:8080/"
        },
        "id": "5cN34qb5Sald",
        "outputId": "e081871d-0fb5-41e1-9e6e-dfa3591a106b"
      },
      "execution_count": null,
      "outputs": [
        {
          "output_type": "execute_result",
          "data": {
            "text/plain": [
              "array([0., 0., 0.])"
            ]
          },
          "metadata": {},
          "execution_count": 15
        }
      ]
    },
    {
      "cell_type": "markdown",
      "source": [
        "matriz:"
      ],
      "metadata": {
        "id": "btbv5_0kSku_"
      }
    },
    {
      "cell_type": "code",
      "source": [
        "x = np.zeros((3,2))\n",
        "x"
      ],
      "metadata": {
        "colab": {
          "base_uri": "https://localhost:8080/"
        },
        "id": "IfzSU_GZSmyl",
        "outputId": "9258d621-f766-4ce3-d475-1d823ae41930"
      },
      "execution_count": null,
      "outputs": [
        {
          "output_type": "execute_result",
          "data": {
            "text/plain": [
              "array([[0., 0.],\n",
              "       [0., 0.],\n",
              "       [0., 0.]])"
            ]
          },
          "metadata": {},
          "execution_count": 16
        }
      ]
    },
    {
      "cell_type": "markdown",
      "source": [
        "Outra forma: sem armazenar em variáveis\n",
        "\n",
        "vetor:"
      ],
      "metadata": {
        "id": "i2WX3Q-gTlp9"
      }
    },
    {
      "cell_type": "code",
      "source": [
        "print(np.zeros(3))"
      ],
      "metadata": {
        "colab": {
          "base_uri": "https://localhost:8080/"
        },
        "id": "T7iHYu3GUuXX",
        "outputId": "e757c7cd-63c4-4ac3-dab9-6305f57b76ba"
      },
      "execution_count": null,
      "outputs": [
        {
          "output_type": "stream",
          "name": "stdout",
          "text": [
            "[0. 0. 0.]\n"
          ]
        }
      ]
    },
    {
      "cell_type": "markdown",
      "source": [
        "matriz:"
      ],
      "metadata": {
        "id": "szHOTIX7U0Qj"
      }
    },
    {
      "cell_type": "code",
      "source": [
        "print(np.zeros((3,2)))"
      ],
      "metadata": {
        "colab": {
          "base_uri": "https://localhost:8080/"
        },
        "id": "RirwdiryUx2X",
        "outputId": "e40fac6f-152c-442e-93a1-f14083d0c2a8"
      },
      "execution_count": null,
      "outputs": [
        {
          "output_type": "stream",
          "name": "stdout",
          "text": [
            "[[0. 0.]\n",
            " [0. 0.]\n",
            " [0. 0.]]\n"
          ]
        }
      ]
    },
    {
      "cell_type": "markdown",
      "source": [
        "np.ones"
      ],
      "metadata": {
        "id": "3edVzA0BWrZb"
      }
    },
    {
      "cell_type": "code",
      "source": [
        "x = np.ones((5,3))\n",
        "x"
      ],
      "metadata": {
        "colab": {
          "base_uri": "https://localhost:8080/"
        },
        "id": "EiHmyo0uWuXA",
        "outputId": "6e10f7ed-b0be-4f6d-8823-69b91bad6e71"
      },
      "execution_count": null,
      "outputs": [
        {
          "output_type": "execute_result",
          "data": {
            "text/plain": [
              "array([[1., 1., 1.],\n",
              "       [1., 1., 1.],\n",
              "       [1., 1., 1.],\n",
              "       [1., 1., 1.],\n",
              "       [1., 1., 1.]])"
            ]
          },
          "metadata": {},
          "execution_count": 19
        }
      ]
    },
    {
      "cell_type": "markdown",
      "source": [
        "igualmente é possível para apenas um vetor"
      ],
      "metadata": {
        "id": "HtpvlFKBW8AU"
      }
    },
    {
      "cell_type": "code",
      "source": [
        "y = np.ones(5)\n",
        "y"
      ],
      "metadata": {
        "colab": {
          "base_uri": "https://localhost:8080/"
        },
        "id": "2LTP8MekYoKw",
        "outputId": "1581fbf4-ea21-4aef-c053-498e07859d54"
      },
      "execution_count": null,
      "outputs": [
        {
          "output_type": "execute_result",
          "data": {
            "text/plain": [
              "array([1., 1., 1., 1., 1.])"
            ]
          },
          "metadata": {},
          "execution_count": 20
        }
      ]
    },
    {
      "cell_type": "markdown",
      "source": [
        "Desafio: como obter uma matriz 4x4 apenas com números 8?"
      ],
      "metadata": {
        "id": "QnwHDNRnazwq"
      }
    },
    {
      "cell_type": "code",
      "source": [
        "matriz = np.array([[8, 8, 8, 8],\n",
        "                   [8, 8, 8, 8],\n",
        "                   [8, 8, 8, 8],\n",
        "                   [8, 8, 8, 8]])"
      ],
      "metadata": {
        "id": "A6nXrdaAbTbA"
      },
      "execution_count": null,
      "outputs": []
    },
    {
      "cell_type": "markdown",
      "source": [
        "np.diag para formar matrizes:\n",
        "\n",
        "os valores passados como parâmetro formam uma diagonal"
      ],
      "metadata": {
        "id": "rMQT3f4JbosX"
      }
    },
    {
      "cell_type": "code",
      "source": [
        "z = np.diag(np.array([1, 2, 3, 4, 5, 6]))\n",
        "z"
      ],
      "metadata": {
        "colab": {
          "base_uri": "https://localhost:8080/"
        },
        "id": "8JX1AYznb1Yx",
        "outputId": "9fdd070b-40b6-4366-ec7f-183bd8efb8e2"
      },
      "execution_count": null,
      "outputs": [
        {
          "output_type": "execute_result",
          "data": {
            "text/plain": [
              "array([[1, 0, 0, 0, 0, 0],\n",
              "       [0, 2, 0, 0, 0, 0],\n",
              "       [0, 0, 3, 0, 0, 0],\n",
              "       [0, 0, 0, 4, 0, 0],\n",
              "       [0, 0, 0, 0, 5, 0],\n",
              "       [0, 0, 0, 0, 0, 6]])"
            ]
          },
          "metadata": {},
          "execution_count": 22
        }
      ]
    },
    {
      "cell_type": "markdown",
      "source": [
        "np.eye para formar matrizes"
      ],
      "metadata": {
        "id": "2feQtlJicFxA"
      }
    },
    {
      "cell_type": "code",
      "source": [
        "y = np.eye(5)\n",
        "y"
      ],
      "metadata": {
        "colab": {
          "base_uri": "https://localhost:8080/"
        },
        "id": "Hdo_I8VOcC7B",
        "outputId": "1b3106de-47fb-4cde-8839-cf3ce0254ee5"
      },
      "execution_count": null,
      "outputs": [
        {
          "output_type": "execute_result",
          "data": {
            "text/plain": [
              "array([[1., 0., 0., 0., 0.],\n",
              "       [0., 1., 0., 0., 0.],\n",
              "       [0., 0., 1., 0., 0.],\n",
              "       [0., 0., 0., 1., 0.],\n",
              "       [0., 0., 0., 0., 1.]])"
            ]
          },
          "metadata": {},
          "execution_count": 23
        }
      ]
    },
    {
      "cell_type": "markdown",
      "source": [
        "agora determinando o tipo int"
      ],
      "metadata": {
        "id": "fNufuyldcPW1"
      }
    },
    {
      "cell_type": "code",
      "source": [
        "y = np.eye (5, dtype = int)\n",
        "y"
      ],
      "metadata": {
        "colab": {
          "base_uri": "https://localhost:8080/"
        },
        "id": "7HgnNXNEcRv-",
        "outputId": "e2ba7d13-6cc5-4459-906c-f1835dca56d2"
      },
      "execution_count": null,
      "outputs": [
        {
          "output_type": "execute_result",
          "data": {
            "text/plain": [
              "array([[1, 0, 0, 0, 0],\n",
              "       [0, 1, 0, 0, 0],\n",
              "       [0, 0, 1, 0, 0],\n",
              "       [0, 0, 0, 1, 0],\n",
              "       [0, 0, 0, 0, 1]])"
            ]
          },
          "metadata": {},
          "execution_count": 24
        }
      ]
    },
    {
      "cell_type": "markdown",
      "source": [
        "Verificando o shape(forma) de duas maneiras"
      ],
      "metadata": {
        "id": "rra5PXFWcYjA"
      }
    },
    {
      "cell_type": "code",
      "source": [
        "np.shape(minhaMatriz)"
      ],
      "metadata": {
        "colab": {
          "base_uri": "https://localhost:8080/"
        },
        "id": "6lEyOu_icfkP",
        "outputId": "9321276d-8c4f-4fc0-9e3d-e34d86341f8b"
      },
      "execution_count": null,
      "outputs": [
        {
          "output_type": "execute_result",
          "data": {
            "text/plain": [
              "(3, 3)"
            ]
          },
          "metadata": {},
          "execution_count": 38
        }
      ]
    },
    {
      "cell_type": "code",
      "source": [
        "minhaMatriz.shape"
      ],
      "metadata": {
        "colab": {
          "base_uri": "https://localhost:8080/"
        },
        "id": "K0OstqPZcl0f",
        "outputId": "9681447b-b599-4393-985f-e8c22132440f"
      },
      "execution_count": null,
      "outputs": [
        {
          "output_type": "execute_result",
          "data": {
            "text/plain": [
              "(3, 3)"
            ]
          },
          "metadata": {},
          "execution_count": 37
        }
      ]
    },
    {
      "cell_type": "markdown",
      "source": [
        "Verificando o tipo da matriz"
      ],
      "metadata": {
        "id": "fGKG5UadcsZA"
      }
    },
    {
      "cell_type": "code",
      "source": [
        "type(minhaMatriz)"
      ],
      "metadata": {
        "colab": {
          "base_uri": "https://localhost:8080/"
        },
        "id": "fmUct2tbcvhJ",
        "outputId": "368f48bd-6f76-4904-e3b6-efb314414a9f"
      },
      "execution_count": null,
      "outputs": [
        {
          "output_type": "execute_result",
          "data": {
            "text/plain": [
              "numpy.matrix"
            ]
          },
          "metadata": {},
          "execution_count": 36
        }
      ]
    },
    {
      "cell_type": "markdown",
      "source": [
        "Verificando o tipo dos dados da matriz"
      ],
      "metadata": {
        "id": "eXIFVtEmc1Ah"
      }
    },
    {
      "cell_type": "code",
      "source": [
        "minhaMatriz.dtype"
      ],
      "metadata": {
        "colab": {
          "base_uri": "https://localhost:8080/"
        },
        "id": "OEquG-wkc6HM",
        "outputId": "2c924130-a12e-4452-ac17-4a1986d4070c"
      },
      "execution_count": null,
      "outputs": [
        {
          "output_type": "execute_result",
          "data": {
            "text/plain": [
              "dtype('int64')"
            ]
          },
          "metadata": {},
          "execution_count": 35
        }
      ]
    },
    {
      "cell_type": "markdown",
      "source": [
        "Selecionando elementos de uma matriz:"
      ],
      "metadata": {
        "id": "P6t3rtysdBmb"
      }
    },
    {
      "cell_type": "code",
      "source": [
        "minhaMatriz[2, 1]"
      ],
      "metadata": {
        "colab": {
          "base_uri": "https://localhost:8080/"
        },
        "id": "BpAy8QoqdF3B",
        "outputId": "b821ba9b-3609-40c8-dd3e-d6bec54066ef"
      },
      "execution_count": null,
      "outputs": [
        {
          "output_type": "execute_result",
          "data": {
            "text/plain": [
              "48"
            ]
          },
          "metadata": {},
          "execution_count": 34
        }
      ]
    },
    {
      "cell_type": "markdown",
      "source": [
        "Selecionando a primeira linha da matriz"
      ],
      "metadata": {
        "id": "EPjUBcKwdM5-"
      }
    },
    {
      "cell_type": "code",
      "source": [
        "print(minhaMatriz[0,:])"
      ],
      "metadata": {
        "colab": {
          "base_uri": "https://localhost:8080/"
        },
        "id": "p5AqSL1JdLjQ",
        "outputId": "ca238c06-24c2-4462-9044-e7697127cf4a"
      },
      "execution_count": null,
      "outputs": [
        {
          "output_type": "stream",
          "name": "stdout",
          "text": [
            "[[13 81 22]]\n"
          ]
        }
      ]
    },
    {
      "cell_type": "markdown",
      "source": [
        "Selecionando a terceira coluna da matriz"
      ],
      "metadata": {
        "id": "_x652bjmeDUU"
      }
    },
    {
      "cell_type": "code",
      "source": [
        "print(minhaMatriz[:,2])"
      ],
      "metadata": {
        "colab": {
          "base_uri": "https://localhost:8080/"
        },
        "id": "491GP588eFZ4",
        "outputId": "6ac6fee2-4513-4133-e3ae-a417559eb268"
      },
      "execution_count": null,
      "outputs": [
        {
          "output_type": "stream",
          "name": "stdout",
          "text": [
            "[[22]\n",
            " [59]\n",
            " [94]]\n"
          ]
        }
      ]
    },
    {
      "cell_type": "markdown",
      "source": [
        "Alterando um elemento da matriz"
      ],
      "metadata": {
        "id": "yMUtt2TweMJB"
      }
    },
    {
      "cell_type": "code",
      "source": [
        "minhaMatriz[1,0] = 100\n",
        "minhaMatriz"
      ],
      "metadata": {
        "colab": {
          "base_uri": "https://localhost:8080/"
        },
        "id": "CV4N66LYeOlU",
        "outputId": "87f43124-4e9d-4c5e-c622-28bbd81adab1"
      },
      "execution_count": null,
      "outputs": [
        {
          "output_type": "execute_result",
          "data": {
            "text/plain": [
              "matrix([[ 13,  81,  22],\n",
              "        [100,  34,  59],\n",
              "        [ 21,  48,  94]])"
            ]
          },
          "metadata": {},
          "execution_count": 40
        }
      ]
    },
    {
      "cell_type": "markdown",
      "source": [
        "Obtendo a soma dos valores do array"
      ],
      "metadata": {
        "id": "n3XWnambeaEH"
      }
    },
    {
      "cell_type": "code",
      "source": [
        "#como não tinha sido criado nenhum \"meuArray\" ou apenas \"array\"\n",
        "#durante a atividade o código deu erro mas a sintaxe está correta.\n",
        "\n",
        "np.sum(meuArray)"
      ],
      "metadata": {
        "id": "58jQmmokeXI_"
      },
      "execution_count": null,
      "outputs": []
    },
    {
      "cell_type": "markdown",
      "source": [
        "Obtendo o produto"
      ],
      "metadata": {
        "id": "1IHkfcbffT1G"
      }
    },
    {
      "cell_type": "code",
      "source": [
        "np.prod(meuArray)"
      ],
      "metadata": {
        "id": "BUQTjDs0fZQH"
      },
      "execution_count": null,
      "outputs": []
    },
    {
      "cell_type": "markdown",
      "source": [
        "Obtendo a soma acumulada"
      ],
      "metadata": {
        "id": "w0SwZwQUflTm"
      }
    },
    {
      "cell_type": "code",
      "source": [
        "np.cumsum(meuArray)"
      ],
      "metadata": {
        "id": "DFLDNMx6fmgk"
      },
      "execution_count": null,
      "outputs": []
    },
    {
      "cell_type": "markdown",
      "source": [
        "Obtendo o valor mínimo do array"
      ],
      "metadata": {
        "id": "WpgPfocffvVc"
      }
    },
    {
      "cell_type": "code",
      "source": [
        "array.min()"
      ],
      "metadata": {
        "id": "QO4jpWn0ftuo"
      },
      "execution_count": null,
      "outputs": []
    },
    {
      "cell_type": "markdown",
      "source": [
        "Obtendo o valor máximo:"
      ],
      "metadata": {
        "id": "F3HiSq78gOzV"
      }
    },
    {
      "cell_type": "code",
      "source": [
        "array.max()"
      ],
      "metadata": {
        "id": "yNIoCeKKgQZ8"
      },
      "execution_count": null,
      "outputs": []
    },
    {
      "cell_type": "markdown",
      "source": [
        "Operações com estatística básica\n",
        "\n",
        "Obtendo a média dos valores do array"
      ],
      "metadata": {
        "id": "9D03HKzHgWlg"
      }
    },
    {
      "cell_type": "code",
      "source": [
        "np.mean(meuArray)"
      ],
      "metadata": {
        "id": "vNG4j2QPgQga"
      },
      "execution_count": null,
      "outputs": []
    },
    {
      "cell_type": "markdown",
      "source": [
        "Obtendo a mediana"
      ],
      "metadata": {
        "id": "AYnyPFKjhYIk"
      }
    },
    {
      "cell_type": "code",
      "source": [
        "np.median(meuArray)"
      ],
      "metadata": {
        "id": "Sef063CKhWuZ"
      },
      "execution_count": null,
      "outputs": []
    },
    {
      "cell_type": "markdown",
      "source": [
        "Obtendo a variância dos valores"
      ],
      "metadata": {
        "id": "_NBlxyaihmLP"
      }
    },
    {
      "cell_type": "code",
      "source": [
        "np.var(meuArray)"
      ],
      "metadata": {
        "id": "jQkaQ3d-hq5s"
      },
      "execution_count": null,
      "outputs": []
    },
    {
      "cell_type": "markdown",
      "source": [
        "Obtendo o desvio padrão dos valores"
      ],
      "metadata": {
        "id": "LP46Bn_HhxXV"
      }
    },
    {
      "cell_type": "code",
      "source": [
        "np.std(meuArray)"
      ],
      "metadata": {
        "id": "HafQhdPoh7wD"
      },
      "execution_count": null,
      "outputs": []
    },
    {
      "cell_type": "markdown",
      "source": [
        "Criar um array unidimensional usando arange com 20 elementos;\n",
        "\n",
        "● “Varrer” o array para obter os pares;\n",
        "\n",
        "● “Varrer” o array para obter os ímpares;\n",
        "\n",
        "● Obter a média, a soma, o produto, a variância e o desvio padrão\n",
        "do array.\n",
        "\n",
        "● Saber se os valores são maiores que 5;\n",
        "\n",
        "● Obter os valores maiores que 5."
      ],
      "metadata": {
        "id": "IJPKpAwyiHtL"
      }
    },
    {
      "cell_type": "code",
      "source": [
        "desafioArray = np.arange(0, 20)\n"
      ],
      "metadata": {
        "id": "9IekHPlPiTXp"
      },
      "execution_count": 6,
      "outputs": []
    },
    {
      "cell_type": "code",
      "source": [
        "#varrer pares\n",
        "print(desafioArray[2:20:2])"
      ],
      "metadata": {
        "id": "RkC-yRtsj9vO",
        "colab": {
          "base_uri": "https://localhost:8080/"
        },
        "outputId": "d8d7bcc7-d489-42ec-bba3-1ee3e6b71589"
      },
      "execution_count": 30,
      "outputs": [
        {
          "output_type": "stream",
          "name": "stdout",
          "text": [
            "[ 2  4  6  8 10 12 14 16 18]\n"
          ]
        }
      ]
    },
    {
      "cell_type": "code",
      "source": [
        "#varres impares\n",
        "print(desafioArray[1:20:2])"
      ],
      "metadata": {
        "id": "_oqLzdTpkBvv",
        "colab": {
          "base_uri": "https://localhost:8080/"
        },
        "outputId": "69b96840-7205-49fb-af18-fc66a271e1dd"
      },
      "execution_count": 29,
      "outputs": [
        {
          "output_type": "stream",
          "name": "stdout",
          "text": [
            "[ 1  3  5  7  9 11 13 15 17 19]\n"
          ]
        }
      ]
    },
    {
      "cell_type": "code",
      "source": [
        "np.mean(desafioArray)"
      ],
      "metadata": {
        "id": "xtoPiRwrkEpr",
        "colab": {
          "base_uri": "https://localhost:8080/"
        },
        "outputId": "f190fc21-1a85-4291-aa63-961af01a3977"
      },
      "execution_count": 18,
      "outputs": [
        {
          "output_type": "execute_result",
          "data": {
            "text/plain": [
              "9.5"
            ]
          },
          "metadata": {},
          "execution_count": 18
        }
      ]
    },
    {
      "cell_type": "code",
      "source": [
        "np.sum(desafioArray)"
      ],
      "metadata": {
        "colab": {
          "base_uri": "https://localhost:8080/"
        },
        "id": "lzYAxMPHyDPH",
        "outputId": "0cf897b1-6442-404c-d024-e4479f9524a4"
      },
      "execution_count": 19,
      "outputs": [
        {
          "output_type": "execute_result",
          "data": {
            "text/plain": [
              "190"
            ]
          },
          "metadata": {},
          "execution_count": 19
        }
      ]
    },
    {
      "cell_type": "code",
      "source": [
        "np.prod(desafioArray)"
      ],
      "metadata": {
        "colab": {
          "base_uri": "https://localhost:8080/"
        },
        "id": "lKtzS0ORzENs",
        "outputId": "d7964520-5bc5-4bd4-a022-274cbb964587"
      },
      "execution_count": 20,
      "outputs": [
        {
          "output_type": "execute_result",
          "data": {
            "text/plain": [
              "0"
            ]
          },
          "metadata": {},
          "execution_count": 20
        }
      ]
    },
    {
      "cell_type": "code",
      "source": [
        "np.var(desafioArray)"
      ],
      "metadata": {
        "colab": {
          "base_uri": "https://localhost:8080/"
        },
        "id": "MW_zGOYRzNQ7",
        "outputId": "911174aa-102d-42e2-b835-71eceee6802a"
      },
      "execution_count": 21,
      "outputs": [
        {
          "output_type": "execute_result",
          "data": {
            "text/plain": [
              "33.25"
            ]
          },
          "metadata": {},
          "execution_count": 21
        }
      ]
    },
    {
      "cell_type": "code",
      "source": [
        "np.std(desafioArray)"
      ],
      "metadata": {
        "colab": {
          "base_uri": "https://localhost:8080/"
        },
        "id": "QeJ27IL9zNvy",
        "outputId": "9a1c9953-a3cd-4a82-a7c5-444c8f74f458"
      },
      "execution_count": 22,
      "outputs": [
        {
          "output_type": "execute_result",
          "data": {
            "text/plain": [
              "5.766281297335398"
            ]
          },
          "metadata": {},
          "execution_count": 22
        }
      ]
    },
    {
      "cell_type": "code",
      "source": [
        "print(desafioArray > 5)"
      ],
      "metadata": {
        "colab": {
          "base_uri": "https://localhost:8080/"
        },
        "id": "S8Dv-y-zzjtQ",
        "outputId": "c4a94ad8-04e3-4152-9d1e-08436aaa35d7"
      },
      "execution_count": 23,
      "outputs": [
        {
          "output_type": "stream",
          "name": "stdout",
          "text": [
            "[False False False False False False  True  True  True  True  True  True\n",
            "  True  True  True  True  True  True  True  True]\n"
          ]
        }
      ]
    },
    {
      "cell_type": "code",
      "source": [
        "print(desafioArray[6:20])"
      ],
      "metadata": {
        "colab": {
          "base_uri": "https://localhost:8080/"
        },
        "id": "jrCt-9V9zs9Z",
        "outputId": "183673db-68c2-438d-a0a3-ca8600cedf2f"
      },
      "execution_count": 24,
      "outputs": [
        {
          "output_type": "stream",
          "name": "stdout",
          "text": [
            "[ 6  7  8  9 10 11 12 13 14 15 16 17 18 19]\n"
          ]
        }
      ]
    }
  ]
}