{
  "nbformat": 4,
  "nbformat_minor": 0,
  "metadata": {
    "colab": {
      "provenance": [],
      "authorship_tag": "ABX9TyPen/+2iK1jzfy+UU9svYsv",
      "include_colab_link": true
    },
    "kernelspec": {
      "name": "python3",
      "display_name": "Python 3"
    },
    "language_info": {
      "name": "python"
    }
  },
  "cells": [
    {
      "cell_type": "markdown",
      "metadata": {
        "id": "view-in-github",
        "colab_type": "text"
      },
      "source": [
        "<a href=\"https://colab.research.google.com/github/geovannathereza/curso-de-machine-learning/blob/main/DESAFIO_Atividade_de_Casa_2_aula02_12_22.ipynb\" target=\"_parent\"><img src=\"https://colab.research.google.com/assets/colab-badge.svg\" alt=\"Open In Colab\"/></a>"
      ]
    },
    {
      "cell_type": "markdown",
      "source": [
        "Aluna: Geovanna Thereza Tavares\n",
        "\n",
        "1) Utilize lista ou dicionário com 5 perguntas para uma pessoa sobre\n",
        "um crime. As perguntas são:\n",
        "\"Telefonou para a vítima?\",\n",
        "\"Esteve no local do crime?\"\n",
        "\"Mora perto da vítima?\"\n",
        "\"Devia para a vítima?\"\n",
        "\"Já trabalhou com a vítima?\"\n",
        "\n",
        "O seu programa deve utilizar o índice da lista ou a chave do dicionário\n",
        "para direcionar a pergunta para o usuário.\n",
        "Ao final das perguntas, seu programa deve emitir uma classificação\n",
        "sobre a participação da pessoa no crime.\n",
        "Por exemplo: Se a pessoa responder positivamente a 2 questões ela\n",
        "deve ser classificada como \"Suspeito grau 1\", entre 3 e 4 como\n",
        "\"Suspeito grau 2\" e 5 como \"Suspeito grau 3: Principal suspeito\".\n",
        "Caso contrário, ele será classificado como \"Inocente\"."
      ],
      "metadata": {
        "id": "PIkBCc0Qb2NP"
      }
    },
    {
      "cell_type": "code",
      "source": [
        "dicio = {1:'Telefonou para a vítima?', 2:'Esteve no local do crime?', 3:'Mora perto da vítima?', 4:'Devia para a vítima?', 5:'Já trabalhou com a vítima?'}\n",
        "lista1 = []\n",
        "\n",
        "pergunta = input(dicio[1])\n",
        "lista1.append(pergunta)\n",
        "pergunta = input(dicio[2])\n",
        "lista1.append(pergunta)\n",
        "pergunta = input(dicio[3])\n",
        "lista1.append(pergunta)\n",
        "pergunta = input(dicio[4])\n",
        "lista1.append(pergunta)\n",
        "pergunta = input(dicio[5])\n",
        "lista1.append(pergunta)\n",
        "\n",
        "if lista1.count('Sim' or 'sim') == 2:\n",
        "  print('Suspeito grau 1')\n",
        "elif lista1.count('Sim' or 'sim') == 3 or 4:\n",
        "  print('Suspeito grau 2')\n",
        "elif lista1.count('Sim' or 'sim') == 5:\n",
        "  print('Suspeito grau 3: Principal suspeito')\n",
        "else:\n",
        "  print('Inocente!')\n"
      ],
      "metadata": {
        "colab": {
          "base_uri": "https://localhost:8080/"
        },
        "id": "vqvrByPnnJEO",
        "outputId": "db022c65-dece-4040-b56b-bcfe811057bd"
      },
      "execution_count": null,
      "outputs": [
        {
          "output_type": "stream",
          "name": "stdout",
          "text": [
            "Telefonou para a vítima? Sim\n",
            "Esteve no local do crime?Não\n",
            "Mora perto da vítima? Sim\n",
            "Devia para a vítima? Não\n",
            "Já trabalhou com a vítima? Sim\n",
            "Suspeito grau 2\n"
          ]
        }
      ]
    },
    {
      "cell_type": "markdown",
      "source": [
        "2) Eu não consegui interpretar o enunciado dessa questão, não ficou claro pra mim oque deveria ser feito. O enunciado pede para que seja determinado quantos vendedores receberam salários nos seguintes intervalos de valores. E em seguida mostra os valores, mas no texto não é citado quantos vendores a empresa tem, isso me deixou com dúvidas a respeito da questão então eu optei por deixar em branco."
      ],
      "metadata": {
        "id": "MvCX8WzxOQmV"
      }
    },
    {
      "cell_type": "markdown",
      "source": [
        "3) Faça um Programa que leia um vetor de 10 números reais e\n",
        "mostre-os na ordem inversa."
      ],
      "metadata": {
        "id": "o10_tZ407OP-"
      }
    },
    {
      "cell_type": "code",
      "source": [
        "lista = [1.0, 2.0, 3.0, 4.0, 5.0, 6.0, 7.0, 8.0, 9.0, 10.0]\n",
        "lista.reverse()\n",
        "print(lista)"
      ],
      "metadata": {
        "id": "JUBiygBU7WZS",
        "colab": {
          "base_uri": "https://localhost:8080/"
        },
        "outputId": "0e2affc4-31da-4806-83e3-5f75d5fa35bc"
      },
      "execution_count": null,
      "outputs": [
        {
          "output_type": "stream",
          "name": "stdout",
          "text": [
            "[10.0, 9.0, 8.0, 7.0, 6.0, 5.0, 4.0, 3.0, 2.0, 1.0]\n"
          ]
        }
      ]
    },
    {
      "cell_type": "markdown",
      "source": [
        "4)Faça um Programa que peça as quatro notas de 10 alunos, calcule\n",
        "e armazene num vetor a média de cada aluno, imprima o número de\n",
        "alunos com média maior ou igual a 7.0."
      ],
      "metadata": {
        "id": "5XqceR2ficav"
      }
    },
    {
      "cell_type": "code",
      "source": [
        "nota = 4\n",
        "alunos = 10\n",
        "mediamaior = 0\n",
        "\n",
        "media = []\n",
        "\n",
        "for numalunos in range(alunos):\n",
        "  medianum = 0.0\n",
        "  for notasalunos in range(nota):\n",
        "    medianum += float(input(f\"Insira a {notasalunos+1}° nota do {numalunos+1}° aluno \"))\n",
        "  medianum /= nota\n",
        "  media.append(medianum)\n",
        "  if medianum >= 7:\n",
        "    media += 1\n",
        "  \n",
        "print(\"As médias dos alunos foram:\")\n",
        "for numalunos in range(alunos):\n",
        "    print(f\"{numalunos+1}° aluno: {media[numalunos]}\")\n",
        "\n",
        "print(f\"\\n{mediamaior} alunos tiveram média maior ou igual a 7.\")\n",
        "\n"
      ],
      "metadata": {
        "colab": {
          "base_uri": "https://localhost:8080/"
        },
        "id": "1aI96txvidrV",
        "outputId": "d053a336-9981-4069-a712-7839328d18f8"
      },
      "execution_count": null,
      "outputs": [
        {
          "output_type": "stream",
          "name": "stdout",
          "text": [
            "Insira a 1° nota do 1° aluno 1\n",
            "Insira a 2° nota do 1° aluno 1\n",
            "Insira a 3° nota do 1° aluno 1\n",
            "Insira a 4° nota do 1° aluno 1\n",
            "Insira a 1° nota do 2° aluno 1\n",
            "Insira a 2° nota do 2° aluno 1\n",
            "Insira a 3° nota do 2° aluno 1\n",
            "Insira a 4° nota do 2° aluno 1\n",
            "Insira a 1° nota do 3° aluno 1\n",
            "Insira a 2° nota do 3° aluno 1\n",
            "Insira a 3° nota do 3° aluno 1\n",
            "Insira a 4° nota do 3° aluno 1\n",
            "Insira a 1° nota do 4° aluno 1\n",
            "Insira a 2° nota do 4° aluno 1\n",
            "Insira a 3° nota do 4° aluno 1\n",
            "Insira a 4° nota do 4° aluno 1\n",
            "Insira a 1° nota do 5° aluno 1\n",
            "Insira a 2° nota do 5° aluno 1\n",
            "Insira a 3° nota do 5° aluno 1\n",
            "Insira a 4° nota do 5° aluno 1\n",
            "Insira a 1° nota do 6° aluno 1\n",
            "Insira a 2° nota do 6° aluno 1\n",
            "Insira a 3° nota do 6° aluno 1\n",
            "Insira a 4° nota do 6° aluno 1\n",
            "Insira a 1° nota do 7° aluno 1\n",
            "Insira a 2° nota do 7° aluno 1\n",
            "Insira a 3° nota do 7° aluno 1\n",
            "Insira a 4° nota do 7° aluno 1\n",
            "Insira a 1° nota do 8° aluno 1\n",
            "Insira a 2° nota do 8° aluno 1\n",
            "Insira a 3° nota do 8° aluno 1\n",
            "Insira a 4° nota do 8° aluno 1\n",
            "Insira a 1° nota do 9° aluno 1\n",
            "Insira a 2° nota do 9° aluno 1\n",
            "Insira a 3° nota do 9° aluno 1\n",
            "Insira a 4° nota do 9° aluno 1\n",
            "Insira a 1° nota do 10° aluno 1\n",
            "Insira a 2° nota do 10° aluno 1\n",
            "Insira a 3° nota do 10° aluno 1\n",
            "Insira a 4° nota do 10° aluno 1\n",
            "As médias dos alunos foram:\n",
            "1° aluno: 1.0\n",
            "2° aluno: 1.0\n",
            "3° aluno: 1.0\n",
            "4° aluno: 1.0\n",
            "5° aluno: 1.0\n",
            "6° aluno: 1.0\n",
            "7° aluno: 1.0\n",
            "8° aluno: 1.0\n",
            "9° aluno: 1.0\n",
            "10° aluno: 1.0\n",
            "\n",
            "0 alunos tiveram média maior ou igual a 7.\n"
          ]
        }
      ]
    }
  ]
}