{
  "nbformat": 4,
  "nbformat_minor": 0,
  "metadata": {
    "colab": {
      "provenance": [],
      "authorship_tag": "ABX9TyOP8BekU/G8LlDnxQcXMmaU",
      "include_colab_link": true
    },
    "kernelspec": {
      "name": "python3",
      "display_name": "Python 3"
    },
    "language_info": {
      "name": "python"
    }
  },
  "cells": [
    {
      "cell_type": "markdown",
      "metadata": {
        "id": "view-in-github",
        "colab_type": "text"
      },
      "source": [
        "<a href=\"https://colab.research.google.com/github/geovannathereza/curso-de-machine-learning/blob/main/aula2.ipynb\" target=\"_parent\"><img src=\"https://colab.research.google.com/assets/colab-badge.svg\" alt=\"Open In Colab\"/></a>"
      ]
    },
    {
      "cell_type": "markdown",
      "source": [
        "Aluna: Geovanna Thereza"
      ],
      "metadata": {
        "id": "Jx7Yh5wLkhnj"
      }
    },
    {
      "cell_type": "code",
      "source": [
        "idade1 = 20"
      ],
      "metadata": {
        "id": "y_tvyF6Rknvj"
      },
      "execution_count": null,
      "outputs": []
    },
    {
      "cell_type": "code",
      "source": [
        "idade2 = 35"
      ],
      "metadata": {
        "id": "FxcM4zdHSPVD"
      },
      "execution_count": null,
      "outputs": []
    },
    {
      "cell_type": "code",
      "source": [
        "idade1 + idade2"
      ],
      "metadata": {
        "colab": {
          "base_uri": "https://localhost:8080/"
        },
        "id": "aMS9ulcNScSz",
        "outputId": "9ad50bec-dadc-40b6-ba34-5e9620d27d3f"
      },
      "execution_count": null,
      "outputs": [
        {
          "output_type": "execute_result",
          "data": {
            "text/plain": [
              "55"
            ]
          },
          "metadata": {},
          "execution_count": 58
        }
      ]
    },
    {
      "cell_type": "code",
      "source": [
        "somaIdades = idade1 + idade2"
      ],
      "metadata": {
        "id": "cC-3DkjdSqZj"
      },
      "execution_count": null,
      "outputs": []
    },
    {
      "cell_type": "code",
      "source": [
        "idade1 - idade2"
      ],
      "metadata": {
        "colab": {
          "base_uri": "https://localhost:8080/"
        },
        "id": "pfMnMsJCS1Tj",
        "outputId": "7504d2c6-dcda-4545-fa33-0de767a6819b"
      },
      "execution_count": null,
      "outputs": [
        {
          "output_type": "execute_result",
          "data": {
            "text/plain": [
              "-15"
            ]
          },
          "metadata": {},
          "execution_count": 60
        }
      ]
    },
    {
      "cell_type": "code",
      "source": [
        "idade1 * idade2"
      ],
      "metadata": {
        "colab": {
          "base_uri": "https://localhost:8080/"
        },
        "id": "1Yn1cMo3S8mM",
        "outputId": "7059b3d4-855f-4fe1-8134-e90580c97cee"
      },
      "execution_count": null,
      "outputs": [
        {
          "output_type": "execute_result",
          "data": {
            "text/plain": [
              "700"
            ]
          },
          "metadata": {},
          "execution_count": 61
        }
      ]
    },
    {
      "cell_type": "code",
      "source": [
        "idade1 / idade2"
      ],
      "metadata": {
        "colab": {
          "base_uri": "https://localhost:8080/"
        },
        "id": "HGVkuzYJTAor",
        "outputId": "95c9c892-6120-47be-c34a-13aaec60a219"
      },
      "execution_count": null,
      "outputs": [
        {
          "output_type": "execute_result",
          "data": {
            "text/plain": [
              "0.5714285714285714"
            ]
          },
          "metadata": {},
          "execution_count": 62
        }
      ]
    },
    {
      "cell_type": "code",
      "source": [
        "idade1 + 10"
      ],
      "metadata": {
        "colab": {
          "base_uri": "https://localhost:8080/"
        },
        "id": "5bvi4ACuTJJ0",
        "outputId": "04c56239-69ef-4941-c2cf-e394450ce69b"
      },
      "execution_count": null,
      "outputs": [
        {
          "output_type": "execute_result",
          "data": {
            "text/plain": [
              "30"
            ]
          },
          "metadata": {},
          "execution_count": 63
        }
      ]
    },
    {
      "cell_type": "code",
      "source": [
        "idade1 - 15"
      ],
      "metadata": {
        "colab": {
          "base_uri": "https://localhost:8080/"
        },
        "id": "quokFaAeTLMr",
        "outputId": "f8dcf498-0880-4f03-93da-d5ecf8e823c9"
      },
      "execution_count": null,
      "outputs": [
        {
          "output_type": "execute_result",
          "data": {
            "text/plain": [
              "5"
            ]
          },
          "metadata": {},
          "execution_count": 64
        }
      ]
    },
    {
      "cell_type": "code",
      "source": [
        "idade1 * 4"
      ],
      "metadata": {
        "colab": {
          "base_uri": "https://localhost:8080/"
        },
        "id": "95D5c_qJTOKr",
        "outputId": "aee54e67-bd19-4086-c322-8b5ce6a80447"
      },
      "execution_count": null,
      "outputs": [
        {
          "output_type": "execute_result",
          "data": {
            "text/plain": [
              "80"
            ]
          },
          "metadata": {},
          "execution_count": 24
        }
      ]
    },
    {
      "cell_type": "code",
      "source": [
        "idade1 / 5"
      ],
      "metadata": {
        "colab": {
          "base_uri": "https://localhost:8080/"
        },
        "id": "LbjfB74FTQzM",
        "outputId": "1ada8962-0d69-484b-cdfe-9c6be20c7c6f"
      },
      "execution_count": null,
      "outputs": [
        {
          "output_type": "execute_result",
          "data": {
            "text/plain": [
              "4.0"
            ]
          },
          "metadata": {},
          "execution_count": 25
        }
      ]
    },
    {
      "cell_type": "code",
      "source": [
        "2 * (idade1 + idade2)"
      ],
      "metadata": {
        "colab": {
          "base_uri": "https://localhost:8080/"
        },
        "id": "1_vjwOVnTkgT",
        "outputId": "e87b8afa-2419-40e5-9185-7bc330e76bfd"
      },
      "execution_count": null,
      "outputs": [
        {
          "output_type": "execute_result",
          "data": {
            "text/plain": [
              "110"
            ]
          },
          "metadata": {},
          "execution_count": 26
        }
      ]
    },
    {
      "cell_type": "code",
      "source": [
        "2 * idade1 + 3 * idade2 / 4"
      ],
      "metadata": {
        "colab": {
          "base_uri": "https://localhost:8080/"
        },
        "id": "6WY2qZ9HTu6b",
        "outputId": "a38e7c8e-294d-4304-ced2-7adfc2506a9b"
      },
      "execution_count": null,
      "outputs": [
        {
          "output_type": "execute_result",
          "data": {
            "text/plain": [
              "66.25"
            ]
          },
          "metadata": {},
          "execution_count": 27
        }
      ]
    },
    {
      "cell_type": "code",
      "source": [
        "(2 * idade1 + 3 * idade2) / 4"
      ],
      "metadata": {
        "colab": {
          "base_uri": "https://localhost:8080/"
        },
        "id": "i0GLLVV6T7xE",
        "outputId": "5f209a2f-d3da-4943-9213-6a9becca9f13"
      },
      "execution_count": null,
      "outputs": [
        {
          "output_type": "execute_result",
          "data": {
            "text/plain": [
              "36.25"
            ]
          },
          "metadata": {},
          "execution_count": 34
        }
      ]
    },
    {
      "cell_type": "code",
      "source": [
        "idade1 ** 2"
      ],
      "metadata": {
        "colab": {
          "base_uri": "https://localhost:8080/"
        },
        "id": "SYJvsCepUDNN",
        "outputId": "74b816b5-16a0-47a5-d96d-0749e064aaab"
      },
      "execution_count": null,
      "outputs": [
        {
          "output_type": "execute_result",
          "data": {
            "text/plain": [
              "400"
            ]
          },
          "metadata": {},
          "execution_count": 33
        }
      ]
    },
    {
      "cell_type": "code",
      "source": [
        "15 ** 2"
      ],
      "metadata": {
        "colab": {
          "base_uri": "https://localhost:8080/"
        },
        "id": "2DRLYiCoUHm8",
        "outputId": "f4af6204-3f35-4e7a-b6a1-8a4a17e64aa8"
      },
      "execution_count": null,
      "outputs": [
        {
          "output_type": "execute_result",
          "data": {
            "text/plain": [
              "225"
            ]
          },
          "metadata": {},
          "execution_count": 32
        }
      ]
    },
    {
      "cell_type": "code",
      "source": [
        "idade2 // idade1"
      ],
      "metadata": {
        "colab": {
          "base_uri": "https://localhost:8080/"
        },
        "id": "DODYn3IXUKRk",
        "outputId": "908d69fd-bf2b-4afd-f11c-6da3d551be27"
      },
      "execution_count": null,
      "outputs": [
        {
          "output_type": "execute_result",
          "data": {
            "text/plain": [
              "1"
            ]
          },
          "metadata": {},
          "execution_count": 31
        }
      ]
    },
    {
      "cell_type": "code",
      "source": [
        "idade2 / idade1"
      ],
      "metadata": {
        "colab": {
          "base_uri": "https://localhost:8080/"
        },
        "id": "mzQUpR1KUlQ0",
        "outputId": "802cbb09-e54d-486d-fab0-1f6ea8a872fe"
      },
      "execution_count": null,
      "outputs": [
        {
          "output_type": "execute_result",
          "data": {
            "text/plain": [
              "1.75"
            ]
          },
          "metadata": {},
          "execution_count": 30
        }
      ]
    },
    {
      "cell_type": "code",
      "source": [
        "idade2 % idade1"
      ],
      "metadata": {
        "colab": {
          "base_uri": "https://localhost:8080/"
        },
        "id": "lhjgYua8Urvs",
        "outputId": "f3f86696-1d28-4285-ce62-b5f3b642329f"
      },
      "execution_count": null,
      "outputs": [
        {
          "output_type": "execute_result",
          "data": {
            "text/plain": [
              "15"
            ]
          },
          "metadata": {},
          "execution_count": 29
        }
      ]
    },
    {
      "cell_type": "code",
      "source": [
        "nome = 'Geovanna'\n",
        "sobrenome = 'Tavares'\n",
        "\n",
        "print(nome + sobrenome)"
      ],
      "metadata": {
        "id": "vusOWt2CUu2s"
      },
      "execution_count": null,
      "outputs": []
    },
    {
      "cell_type": "code",
      "source": [
        "print(nome + ' ' + sobrenome)"
      ],
      "metadata": {
        "colab": {
          "base_uri": "https://localhost:8080/"
        },
        "id": "jA7MtVieVRf0",
        "outputId": "b3a2d575-16c3-4706-eca2-09ee32fc4d21"
      },
      "execution_count": null,
      "outputs": [
        {
          "output_type": "stream",
          "name": "stdout",
          "text": [
            "Geovanna Tavares\n"
          ]
        }
      ]
    },
    {
      "cell_type": "code",
      "source": [
        "print ('Olá, ', nome, 'você tem ', idade1 + 15, 'anos.')"
      ],
      "metadata": {
        "colab": {
          "base_uri": "https://localhost:8080/"
        },
        "id": "bUB1QZatVaIc",
        "outputId": "37fb6d7d-749f-48f1-9d9e-073a2ef7ac46"
      },
      "execution_count": null,
      "outputs": [
        {
          "output_type": "stream",
          "name": "stdout",
          "text": [
            "Olá,  Geovanna você tem  35 anos.\n"
          ]
        }
      ]
    },
    {
      "cell_type": "code",
      "source": [
        "print('Olá, ', nome, '\\n', 'você tem ', idade1 + 15, 'anos.')"
      ],
      "metadata": {
        "colab": {
          "base_uri": "https://localhost:8080/"
        },
        "id": "FlUgJoDRW2Sj",
        "outputId": "ae07a4df-321c-420a-8e0a-8a2f1dfc1189"
      },
      "execution_count": null,
      "outputs": [
        {
          "output_type": "stream",
          "name": "stdout",
          "text": [
            "Olá,  Geovanna \n",
            " você tem  35 anos.\n"
          ]
        }
      ]
    },
    {
      "cell_type": "code",
      "source": [
        "input('Digite o seu nome: ')"
      ],
      "metadata": {
        "colab": {
          "base_uri": "https://localhost:8080/",
          "height": 53
        },
        "id": "W0wdZXPyXcUA",
        "outputId": "e11ad568-d541-4a15-deba-ddcd31d7e1b1"
      },
      "execution_count": null,
      "outputs": [
        {
          "name": "stdout",
          "output_type": "stream",
          "text": [
            "Digite o seu nome: Geovanna\n"
          ]
        },
        {
          "output_type": "execute_result",
          "data": {
            "text/plain": [
              "'Geovanna'"
            ],
            "application/vnd.google.colaboratory.intrinsic+json": {
              "type": "string"
            }
          },
          "metadata": {},
          "execution_count": 38
        }
      ]
    },
    {
      "cell_type": "code",
      "source": [
        "nome = input('Digite seu nome: ')"
      ],
      "metadata": {
        "colab": {
          "base_uri": "https://localhost:8080/"
        },
        "id": "eDv_T4XHXn9k",
        "outputId": "3f200ac3-1fcb-404b-fb4a-b31d1385302b"
      },
      "execution_count": null,
      "outputs": [
        {
          "name": "stdout",
          "output_type": "stream",
          "text": [
            "Digite seu nome: Thereza\n"
          ]
        }
      ]
    },
    {
      "cell_type": "code",
      "source": [
        "nome = int(input('Digite seu nome: '))"
      ],
      "metadata": {
        "colab": {
          "base_uri": "https://localhost:8080/"
        },
        "id": "SaDh2M1iX-Xc",
        "outputId": "ba53bd4b-8885-4cb7-dd4b-83fbbf1c99a9"
      },
      "execution_count": null,
      "outputs": [
        {
          "name": "stdout",
          "output_type": "stream",
          "text": [
            "Digite seu nome: 11111\n"
          ]
        }
      ]
    },
    {
      "cell_type": "code",
      "source": [
        "valor1 = input('Digite um número inteiro: ')\n",
        "valor2 = input('Digite outro número inteiro: ')"
      ],
      "metadata": {
        "colab": {
          "base_uri": "https://localhost:8080/"
        },
        "id": "pui7-hCtYygr",
        "outputId": "d3aff09d-af83-4a9f-c93f-080da565355c"
      },
      "execution_count": null,
      "outputs": [
        {
          "name": "stdout",
          "output_type": "stream",
          "text": [
            "Digite um número inteiro: 2\n",
            "Digite outro número inteiro: 4\n"
          ]
        }
      ]
    },
    {
      "cell_type": "code",
      "source": [
        "print(valor1 == valor2)\n",
        "print(valor1 > valor2)\n",
        "print(valor1 < valor2)\n",
        "print(valor1 >= valor2)\n",
        "print(valor1 <= valor2)"
      ],
      "metadata": {
        "colab": {
          "base_uri": "https://localhost:8080/"
        },
        "id": "YsHITFxxagv8",
        "outputId": "d07e94a0-353a-4cea-e56b-533098f60f6a"
      },
      "execution_count": null,
      "outputs": [
        {
          "output_type": "stream",
          "name": "stdout",
          "text": [
            "False\n",
            "False\n",
            "True\n",
            "False\n",
            "True\n"
          ]
        }
      ]
    },
    {
      "cell_type": "code",
      "source": [
        "numero = 10\n",
        "print(numero>0 and numero<10)"
      ],
      "metadata": {
        "colab": {
          "base_uri": "https://localhost:8080/"
        },
        "id": "1Y0ane3abG7k",
        "outputId": "c0aa32f6-2b46-4197-f17c-ae02964d490d"
      },
      "execution_count": null,
      "outputs": [
        {
          "output_type": "stream",
          "name": "stdout",
          "text": [
            "False\n"
          ]
        }
      ]
    },
    {
      "cell_type": "code",
      "source": [
        "numero = 10\n",
        "print(numero>0 or numero<10)"
      ],
      "metadata": {
        "colab": {
          "base_uri": "https://localhost:8080/"
        },
        "id": "D87QOnP9cyS8",
        "outputId": "4fb88464-87c3-4716-ef41-daf6472bfc47"
      },
      "execution_count": null,
      "outputs": [
        {
          "output_type": "stream",
          "name": "stdout",
          "text": [
            "True\n"
          ]
        }
      ]
    },
    {
      "cell_type": "code",
      "source": [
        "if ():\n",
        "  print()\n",
        "else:\n",
        "  print()"
      ],
      "metadata": {
        "id": "jD-lquRLdD3D"
      },
      "execution_count": null,
      "outputs": []
    },
    {
      "cell_type": "markdown",
      "source": [
        "DESAFIO CONDICIONAL"
      ],
      "metadata": {
        "id": "_B9sIPA-eDFp"
      }
    },
    {
      "cell_type": "code",
      "source": [
        "num = int(input('Insira um número: '))\n",
        "\n",
        "if (num % 2 == 0):\n",
        "  print(num, 'é par')\n",
        "else:\n",
        "  print(num, 'é impar')\n"
      ],
      "metadata": {
        "colab": {
          "base_uri": "https://localhost:8080/"
        },
        "id": "GRrnmtKidogL",
        "outputId": "72e0f9da-85d9-4aad-a637-97e9ea530317"
      },
      "execution_count": null,
      "outputs": [
        {
          "output_type": "stream",
          "name": "stdout",
          "text": [
            "Insira um número: 3\n",
            "3 é impar\n"
          ]
        }
      ]
    },
    {
      "cell_type": "code",
      "source": [
        "cupom = input('digite o cupom: ')"
      ],
      "metadata": {
        "colab": {
          "base_uri": "https://localhost:8080/"
        },
        "id": "jwFYCWahhKft",
        "outputId": "7df3b5e2-c5a2-4d5e-a34f-95f0393fb070"
      },
      "execution_count": null,
      "outputs": [
        {
          "name": "stdout",
          "output_type": "stream",
          "text": [
            "digite o cupom: aula3\n"
          ]
        }
      ]
    },
    {
      "cell_type": "code",
      "source": [
        "if (cupom == 'aula1' or cupom == 'aula2'):\n",
        "  print('você ganhou 10% de desconto')\n",
        "else:\n",
        "  print('cupom inválido')"
      ],
      "metadata": {
        "colab": {
          "base_uri": "https://localhost:8080/"
        },
        "id": "tqVvLLB0hkNZ",
        "outputId": "fcb99649-04d8-40be-c944-8029079b0d48"
      },
      "execution_count": null,
      "outputs": [
        {
          "output_type": "stream",
          "name": "stdout",
          "text": [
            "cupom inválido\n"
          ]
        }
      ]
    },
    {
      "cell_type": "markdown",
      "source": [
        "DESAFIO CONDICIONAL COMPOSTA - IF, ELSE"
      ],
      "metadata": {
        "id": "uo6VD6wPn_Bz"
      }
    },
    {
      "cell_type": "code",
      "source": [
        "cupom = input('digite o cupom: ')\n",
        "\n",
        "if (cupom == 'aula1' or cupom == 'aula2'):\n",
        "  print('você ganhou 15% de desconto')\n",
        "else:\n",
        "  print('você ganhou 5% de desconto')"
      ],
      "metadata": {
        "colab": {
          "base_uri": "https://localhost:8080/"
        },
        "id": "SkXfJGDkied9",
        "outputId": "ce935e4d-e8fd-47f8-baa5-aff2f033dde2"
      },
      "execution_count": null,
      "outputs": [
        {
          "output_type": "stream",
          "name": "stdout",
          "text": [
            "digite o cupom: aula2\n",
            "você ganhou 15% de desconto\n"
          ]
        }
      ]
    },
    {
      "cell_type": "code",
      "source": [
        "if():\n",
        "  print()\n",
        "elif():\n",
        "  print()\n",
        "else():\n",
        "  print()"
      ],
      "metadata": {
        "id": "qqMrfcXGmU8x"
      },
      "execution_count": null,
      "outputs": []
    },
    {
      "cell_type": "markdown",
      "source": [
        "DESAFIO CONDICIONAL COMPOSTA - IF, ELIF, ELSE"
      ],
      "metadata": {
        "id": "1pCPbvkSnuwK"
      }
    },
    {
      "cell_type": "code",
      "source": [
        "cupom = input('digite o cupom: ')\n",
        "\n",
        "if (cupom == 'aula1'):\n",
        "  print('você ganhou 15% de desconto')\n",
        "elif(cupom == 'aula2'):\n",
        "  print('você ganhou 10%')\n",
        "else:\n",
        "  print('você ganhou 5% de desconto')"
      ],
      "metadata": {
        "colab": {
          "base_uri": "https://localhost:8080/"
        },
        "id": "GB-rTHKem2jU",
        "outputId": "355d3abc-ff8d-4810-9ffd-de8d9d71ffa1"
      },
      "execution_count": null,
      "outputs": [
        {
          "output_type": "stream",
          "name": "stdout",
          "text": [
            "digite o cupom: aula2\n",
            "você ganhou 10%\n"
          ]
        }
      ]
    },
    {
      "cell_type": "markdown",
      "source": [
        "IDENTAÇÃO"
      ],
      "metadata": {
        "id": "UZnyOMLnoXJ7"
      }
    },
    {
      "cell_type": "code",
      "source": [
        "if (1 == 1):\n",
        "  print('Mensagem no segundo nível')\n",
        "  if((1==2) == False):\n",
        "    print('Mensagem no terceiro nível')"
      ],
      "metadata": {
        "id": "TLgvm2wdoLWq"
      },
      "execution_count": null,
      "outputs": []
    },
    {
      "cell_type": "markdown",
      "source": [
        "DESAFIO IDENTAÇÃO"
      ],
      "metadata": {
        "id": "K51HFBwsrYkj"
      }
    },
    {
      "cell_type": "code",
      "source": [
        "sol = int(input('Digite 1 se estiver fazendo sol e 2 se não estiver: '))\n",
        "dinheiro = int(input('Digite 1 se tiver dinheiro e digite 2 se não tiver: '))\n",
        "\n",
        "if (sol == 1) and (dinheiro == 1):\n",
        "  print('Vou a praia')\n",
        "else:\n",
        "  print('Vou assistir netflix')\n"
      ],
      "metadata": {
        "colab": {
          "base_uri": "https://localhost:8080/"
        },
        "id": "Anb65dCDpgUL",
        "outputId": "f48cce88-ef2b-437c-e395-74395757744a"
      },
      "execution_count": null,
      "outputs": [
        {
          "output_type": "stream",
          "name": "stdout",
          "text": [
            "Digite 1 se estiver fazendo sol e 2 se não estiver: 1\n",
            "Digite 1 se tiver dinheiro e digite 2 se não tiver: 1\n",
            "Vou a praia\n"
          ]
        }
      ]
    },
    {
      "cell_type": "code",
      "source": [
        "sol = int(input('Digite 1 se estiver fazendo sol e 2 se não estiver: '))\n",
        "dinheiro = int(input('Digite 1 se tiver dinheiro e digite 2 se não tiver: '))\n",
        "\n",
        "if (sol == 1) or (dinheiro == 1):\n",
        "  print('Vou a praia')\n",
        "else:\n",
        "  print('Vou assistir netflix')"
      ],
      "metadata": {
        "colab": {
          "base_uri": "https://localhost:8080/"
        },
        "id": "Pv59ybI5y6gj",
        "outputId": "b29cd554-f232-4f47-ad0e-7115ec6f15da"
      },
      "execution_count": null,
      "outputs": [
        {
          "output_type": "stream",
          "name": "stdout",
          "text": [
            "Digite 1 se estiver fazendo sol e 2 se não estiver: 1\n",
            "Digite 1 se tiver dinheiro e digite 2 se não tiver: 1\n",
            "Vou a praia\n"
          ]
        }
      ]
    },
    {
      "cell_type": "code",
      "source": [
        "sol = int(input('Digite 1 se estiver fazendo sol e 2 se não estiver: '))\n",
        "dinheiro = int(input('Digite 1 se tiver dinheiro e digite 2 se não tiver: '))\n",
        "\n",
        "if (sol == 1):\n",
        "  if (dinheiro == 1):\n",
        "    print('Vou a praia')\n",
        "  else:\n",
        "    print('Está sol mas não tenho dinheiro, vou assistir netflix')\n",
        "else:\n",
        "  print('Vou assistir netflix')"
      ],
      "metadata": {
        "colab": {
          "base_uri": "https://localhost:8080/"
        },
        "id": "GTiFJUORzubr",
        "outputId": "749f1f8a-ccc3-4fd6-ebc9-e5d143aefa63"
      },
      "execution_count": null,
      "outputs": [
        {
          "output_type": "stream",
          "name": "stdout",
          "text": [
            "Digite 1 se estiver fazendo sol e 2 se não estiver: 2\n",
            "Digite 1 se tiver dinheiro e digite 2 se não tiver: 1\n",
            "Vou assistir netflix\n"
          ]
        }
      ]
    },
    {
      "cell_type": "code",
      "source": [
        "x = 4\n",
        "0 < x < 5"
      ],
      "metadata": {
        "colab": {
          "base_uri": "https://localhost:8080/"
        },
        "id": "DWaq-Qt42EtR",
        "outputId": "acdbacc5-d634-44a2-bc15-0e9b79f94eac"
      },
      "execution_count": null,
      "outputs": [
        {
          "output_type": "execute_result",
          "data": {
            "text/plain": [
              "True"
            ]
          },
          "metadata": {},
          "execution_count": 90
        }
      ]
    },
    {
      "cell_type": "markdown",
      "source": [
        "DESAFIO"
      ],
      "metadata": {
        "id": "wCTrXNd55_v6"
      }
    },
    {
      "cell_type": "code",
      "source": [
        "ano = int(input('Digite o ano em que o carro foi fabricado: '))\n",
        "valor = float(input('Digite o valor do carro: '))\n",
        "imposto = float\n",
        "\n",
        "if (ano < 1990):\n",
        "  imposto = 1/100 * valor\n",
        "  print('O imposto é de:', imposto)\n",
        "else:\n",
        "  imposto = 1.5/100 * valor\n",
        "  print('O imposto é de:', imposto)"
      ],
      "metadata": {
        "colab": {
          "base_uri": "https://localhost:8080/"
        },
        "id": "jP6fLgYn3n2V",
        "outputId": "be43322f-b099-40a2-a01f-0eff5b083650"
      },
      "execution_count": null,
      "outputs": [
        {
          "output_type": "stream",
          "name": "stdout",
          "text": [
            "Digite o ano em que o carro foi fabricado: 2000\n",
            "Digite o valor do carro: 45000\n",
            "O imposto é de: 675.0\n"
          ]
        }
      ]
    },
    {
      "cell_type": "markdown",
      "source": [
        "DESAFIO"
      ],
      "metadata": {
        "id": "dTj59S6H-8Fx"
      }
    },
    {
      "cell_type": "code",
      "source": [
        "cargo = input('Insira seu cargo: ')\n",
        "salarioAntigo = float(input('Insira seu salário atual: '))\n",
        "salarioNovo = float\n",
        "\n",
        "if (cargo == 'Gerente'):\n",
        "  salarioNovo = salarioAntigo + (10/100 * salarioAntigo)\n",
        "elif (cargo == 'Engenheiro'):\n",
        "  salarioNovo = salarioAntigo + (20/100 * salarioAntigo)\n",
        "elif (cargo == 'Técnico'):\n",
        "  salarioNovo = salarioAntigo + (30/100 * salarioAntigo)\n",
        "else:\n",
        "  salarioNovo = salarioAntigo + (40/100 * salarioAntigo)\n",
        "\n",
        "print(cargo, 'Seu salário antigo era: ', salarioAntigo, 'Seu salário atual é: ', salarioNovo)"
      ],
      "metadata": {
        "id": "nHiyS-IF-B9K"
      },
      "execution_count": null,
      "outputs": []
    }
  ]
}