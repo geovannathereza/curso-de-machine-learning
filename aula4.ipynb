{
  "nbformat": 4,
  "nbformat_minor": 0,
  "metadata": {
    "colab": {
      "provenance": [],
      "authorship_tag": "ABX9TyOG05V7TcjGqDqpR/rWvdF0",
      "include_colab_link": true
    },
    "kernelspec": {
      "name": "python3",
      "display_name": "Python 3"
    },
    "language_info": {
      "name": "python"
    }
  },
  "cells": [
    {
      "cell_type": "markdown",
      "metadata": {
        "id": "view-in-github",
        "colab_type": "text"
      },
      "source": [
        "<a href=\"https://colab.research.google.com/github/geovannathereza/curso-de-machine-learning/blob/main/aula4.ipynb\" target=\"_parent\"><img src=\"https://colab.research.google.com/assets/colab-badge.svg\" alt=\"Open In Colab\"/></a>"
      ]
    },
    {
      "cell_type": "code",
      "execution_count": null,
      "metadata": {
        "colab": {
          "base_uri": "https://localhost:8080/"
        },
        "id": "SLgI5NbJqQ1s",
        "outputId": "311e1d5f-d3e2-4320-b5e3-3851eb2e2d9b"
      },
      "outputs": [
        {
          "output_type": "stream",
          "name": "stdout",
          "text": [
            "Estamos no elemento  1\n",
            "Estamos no elemento  2\n",
            "Estamos no elemento  3\n",
            "Estamos no elemento  4\n",
            "Estamos no elemento  5\n",
            "Estamos no elemento  6\n"
          ]
        }
      ],
      "source": [
        "for elemento in [1, 2, 3, 4, 5, 6]:\n",
        "  print('Estamos no elemento ', elemento)"
      ]
    },
    {
      "cell_type": "code",
      "source": [
        "for elemento in 'STRING':\n",
        "  print('Estamos no elemento ', elemento)"
      ],
      "metadata": {
        "colab": {
          "base_uri": "https://localhost:8080/"
        },
        "id": "RA7DjJJFwopu",
        "outputId": "4943011d-2cfb-4f33-b29d-67146e957b88"
      },
      "execution_count": null,
      "outputs": [
        {
          "output_type": "stream",
          "name": "stdout",
          "text": [
            "Estamos no elemento  S\n",
            "Estamos no elemento  T\n",
            "Estamos no elemento  R\n",
            "Estamos no elemento  I\n",
            "Estamos no elemento  N\n",
            "Estamos no elemento  G\n"
          ]
        }
      ]
    },
    {
      "cell_type": "markdown",
      "source": [],
      "metadata": {
        "id": "WrzkK8G76OBw"
      }
    },
    {
      "cell_type": "code",
      "source": [
        "for elemento in range(len('STRING')):\n",
        "  print('Estamos no elemento ', elemento)"
      ],
      "metadata": {
        "colab": {
          "base_uri": "https://localhost:8080/"
        },
        "id": "LKzVEtoHwpob",
        "outputId": "d02b9e73-b3b7-4e63-c3c1-01707a8559a3"
      },
      "execution_count": null,
      "outputs": [
        {
          "output_type": "stream",
          "name": "stdout",
          "text": [
            "Estamos no elemento  0\n",
            "Estamos no elemento  1\n",
            "Estamos no elemento  2\n",
            "Estamos no elemento  3\n",
            "Estamos no elemento  4\n",
            "Estamos no elemento  5\n"
          ]
        }
      ]
    },
    {
      "cell_type": "code",
      "source": [
        "elemento = 0"
      ],
      "metadata": {
        "id": "GhkB6G4Rxdui"
      },
      "execution_count": null,
      "outputs": []
    },
    {
      "cell_type": "code",
      "source": [
        "while elemento <= len([1, 2, 3, 4, 5, 6,]):\n",
        "  print('Estamos no elemento', elemento)"
      ],
      "metadata": {
        "id": "yzGDoY9fyTlt"
      },
      "execution_count": null,
      "outputs": []
    },
    {
      "cell_type": "code",
      "source": [
        "while elemento <= len([1, 2, 3, 4, 5, 6,]):\n",
        "  print('Estamos no elemento', elemento)\n",
        "  elemento +=1"
      ],
      "metadata": {
        "colab": {
          "base_uri": "https://localhost:8080/"
        },
        "id": "VIvLXSIwy7tC",
        "outputId": "42b0db33-bae7-467d-d5e7-df718100d1ae"
      },
      "execution_count": null,
      "outputs": [
        {
          "output_type": "stream",
          "name": "stdout",
          "text": [
            "Estamos no elemento 0\n",
            "Estamos no elemento 1\n",
            "Estamos no elemento 2\n",
            "Estamos no elemento 3\n",
            "Estamos no elemento 4\n",
            "Estamos no elemento 5\n",
            "Estamos no elemento 6\n"
          ]
        }
      ]
    },
    {
      "cell_type": "code",
      "source": [
        "s = 'string'"
      ],
      "metadata": {
        "id": "7XT8lRsK0f7P"
      },
      "execution_count": null,
      "outputs": []
    },
    {
      "cell_type": "code",
      "source": [
        "indice = 0\n",
        "\n",
        "while indice in range (len (s)):\n",
        "  print ('Estamos no elemento', s[indice])\n",
        "  indice +=1"
      ],
      "metadata": {
        "colab": {
          "base_uri": "https://localhost:8080/"
        },
        "id": "SaChxp7h0xaE",
        "outputId": "95e433bb-80d9-444a-d18a-8c6e26c5c0fc"
      },
      "execution_count": null,
      "outputs": [
        {
          "output_type": "stream",
          "name": "stdout",
          "text": [
            "Estamos no elemento s\n",
            "Estamos no elemento t\n",
            "Estamos no elemento r\n",
            "Estamos no elemento i\n",
            "Estamos no elemento n\n",
            "Estamos no elemento g\n"
          ]
        }
      ]
    },
    {
      "cell_type": "code",
      "source": [
        "palavra = 'tranquilo'\n",
        "for indice, letra in enumerate(palavra):\n",
        "  print(indice, letra)"
      ],
      "metadata": {
        "colab": {
          "base_uri": "https://localhost:8080/"
        },
        "id": "152tTP6l1KiT",
        "outputId": "c3093ba2-8e7c-46d9-a3cd-0a189a3951ea"
      },
      "execution_count": null,
      "outputs": [
        {
          "output_type": "stream",
          "name": "stdout",
          "text": [
            "0 t\n",
            "1 r\n",
            "2 a\n",
            "3 n\n",
            "4 q\n",
            "5 u\n",
            "6 i\n",
            "7 l\n",
            "8 o\n"
          ]
        }
      ]
    },
    {
      "cell_type": "code",
      "source": [
        "lista = ['eat', 'sleep', 'repeat']\n",
        "palavra = 'geek'"
      ],
      "metadata": {
        "id": "3Wg3bDv_12IW"
      },
      "execution_count": null,
      "outputs": []
    },
    {
      "cell_type": "code",
      "source": [
        "objeto1 = enumerate (lista)\n",
        "objeto2 = enumerate (palavra)"
      ],
      "metadata": {
        "id": "vpLbL-NV12l3"
      },
      "execution_count": null,
      "outputs": []
    },
    {
      "cell_type": "code",
      "source": [
        "print('Tipo: ', type(objeto1))\n",
        "print(list(enumerate(lista)))"
      ],
      "metadata": {
        "colab": {
          "base_uri": "https://localhost:8080/"
        },
        "id": "aPEp1waY2wWn",
        "outputId": "71ecc0dc-9219-4b3a-9c54-9bce91d6333f"
      },
      "execution_count": null,
      "outputs": [
        {
          "output_type": "stream",
          "name": "stdout",
          "text": [
            "Tipo:  <class 'enumerate'>\n",
            "[(0, 'eat'), (1, 'sleep'), (2, 'repeat')]\n"
          ]
        }
      ]
    },
    {
      "cell_type": "code",
      "source": [
        "print(list(enumerate(palavra,2)))"
      ],
      "metadata": {
        "colab": {
          "base_uri": "https://localhost:8080/"
        },
        "id": "NxovRni43IT8",
        "outputId": "f5d8c1d0-1102-4193-921f-d8e2cf8be1a2"
      },
      "execution_count": null,
      "outputs": [
        {
          "output_type": "stream",
          "name": "stdout",
          "text": [
            "[(2, 'g'), (3, 'e'), (4, 'e'), (5, 'k')]\n"
          ]
        }
      ]
    },
    {
      "cell_type": "code",
      "source": [
        "s = 'viva o python'\n",
        "for ch in s:\n",
        "  print('oi')"
      ],
      "metadata": {
        "colab": {
          "base_uri": "https://localhost:8080/"
        },
        "id": "TNMOKnW_4ACa",
        "outputId": "5645e051-3250-49ae-bc54-b3c9942034c1"
      },
      "execution_count": null,
      "outputs": [
        {
          "output_type": "stream",
          "name": "stdout",
          "text": [
            "oi\n",
            "oi\n",
            "oi\n",
            "oi\n",
            "oi\n",
            "oi\n",
            "oi\n",
            "oi\n",
            "oi\n",
            "oi\n",
            "oi\n",
            "oi\n",
            "oi\n"
          ]
        }
      ]
    },
    {
      "cell_type": "code",
      "source": [
        "s = 'viva o python'\n",
        "for ch in s[3:8]:\n",
        "  print('oi')"
      ],
      "metadata": {
        "colab": {
          "base_uri": "https://localhost:8080/"
        },
        "id": "VcuJ0Wh94O4L",
        "outputId": "51b7cf3f-a8b8-47ef-b9e4-cde498204bb6"
      },
      "execution_count": null,
      "outputs": [
        {
          "output_type": "stream",
          "name": "stdout",
          "text": [
            "oi\n",
            "oi\n",
            "oi\n",
            "oi\n",
            "oi\n"
          ]
        }
      ]
    },
    {
      "cell_type": "code",
      "source": [
        "cont = 0\n",
        "impar = 0\n",
        "par = 0\n",
        "\n",
        "for i in range(10):\n",
        "  num = int(input(f'Digite o {cont+1}° número: '))\n",
        "  cont +=1\n",
        "  if num == 0:\n",
        "    impar = par = 0\n",
        "  if num % 2 == 0:\n",
        "    par += 1\n",
        "  else:\n",
        "    impar += 1\n",
        "  print(f'A quantidade de números pares é {par} e a quantidade de números ímpares é {impar}')"
      ],
      "metadata": {
        "id": "H84PZXIt5zWd",
        "colab": {
          "base_uri": "https://localhost:8080/"
        },
        "outputId": "23e2b3e8-0267-40c8-8cd2-03c07ae43ce1"
      },
      "execution_count": 7,
      "outputs": [
        {
          "output_type": "stream",
          "name": "stdout",
          "text": [
            "Digite o 1° número: 1\n",
            "A quantidade de números pares é 0 e a quantidade de números ímpares é 1\n",
            "Digite o 2° número: 2\n",
            "A quantidade de números pares é 1 e a quantidade de números ímpares é 1\n",
            "Digite o 3° número: 3\n",
            "A quantidade de números pares é 1 e a quantidade de números ímpares é 2\n",
            "Digite o 4° número: 4\n",
            "A quantidade de números pares é 2 e a quantidade de números ímpares é 2\n",
            "Digite o 5° número: 5\n",
            "A quantidade de números pares é 2 e a quantidade de números ímpares é 3\n",
            "Digite o 6° número: 6\n",
            "A quantidade de números pares é 3 e a quantidade de números ímpares é 3\n",
            "Digite o 7° número: 7\n",
            "A quantidade de números pares é 3 e a quantidade de números ímpares é 4\n",
            "Digite o 8° número: 8\n",
            "A quantidade de números pares é 4 e a quantidade de números ímpares é 4\n",
            "Digite o 9° número: 9\n",
            "A quantidade de números pares é 4 e a quantidade de números ímpares é 5\n",
            "Digite o 10° número: 10\n",
            "A quantidade de números pares é 5 e a quantidade de números ímpares é 5\n"
          ]
        }
      ]
    },
    {
      "cell_type": "code",
      "source": [
        "for dia in ['Sábado', 'Domingo']:\n",
        "  semana = input('Digite o dia da semana: ')\n",
        "if (semana == 'Domingo' or semana == 'Sábado'):\n",
        "  print('Hoje é dia de descanso')\n",
        "else:\n",
        "  ('Você precisa trabalhar')"
      ],
      "metadata": {
        "id": "_eI6GP2r8KXB",
        "colab": {
          "base_uri": "https://localhost:8080/"
        },
        "outputId": "74b02016-318d-4432-dc35-07bd3584797b"
      },
      "execution_count": 3,
      "outputs": [
        {
          "name": "stdout",
          "output_type": "stream",
          "text": [
            "Digite o dia da semana: Domingo\n",
            "Digite o dia da semana: Sexta\n"
          ]
        }
      ]
    },
    {
      "cell_type": "code",
      "source": [
        "\n",
        "for num in range(5):\n",
        "  num = int(input('Digite um número: '))\n",
        "  if (num % 2 == 0):\n",
        "    num = num\n",
        "    print('Número par: ', num)\n",
        "  else:\n",
        "    num = num * num\n",
        "    print('Número ímpar multiplicado por ele mesmo: ', num)"
      ],
      "metadata": {
        "id": "xX5z-58W9Sjz"
      },
      "execution_count": null,
      "outputs": []
    },
    {
      "cell_type": "code",
      "source": [
        "palavra = 'banana'\n",
        "for indice, letra in enumerate(palavra[1:6:2]):\n",
        "  print(indice, letra)"
      ],
      "metadata": {
        "colab": {
          "base_uri": "https://localhost:8080/"
        },
        "id": "I2lbFIJdAFPU",
        "outputId": "94cef9e4-0ab5-49bb-cc4c-baa02586e4b4"
      },
      "execution_count": null,
      "outputs": [
        {
          "output_type": "stream",
          "name": "stdout",
          "text": [
            "0 a\n",
            "1 a\n",
            "2 a\n"
          ]
        }
      ]
    },
    {
      "cell_type": "code",
      "source": [
        "for nome in ['Reginaldo', 'Gisele Pintcher', 'Scoob', 'Marlene', 'Zezinho', 'Cibele', 'Suely']:\n",
        "  convite = ('Oi, ' + nome + '! Por favor, venha para o sábado pet em minha casa!')\n",
        "\n",
        "  print(convite)"
      ],
      "metadata": {
        "colab": {
          "base_uri": "https://localhost:8080/"
        },
        "id": "j_Vpic9KDh6k",
        "outputId": "b39ad4bd-9c9f-4135-a7fc-839a979f2e0d"
      },
      "execution_count": null,
      "outputs": [
        {
          "output_type": "stream",
          "name": "stdout",
          "text": [
            "Oi, Reginaldo! Por favor, venha para o sábado pet em minha casa!\n",
            "Oi, Gisele Pintcher! Por favor, venha para o sábado pet em minha casa!\n",
            "Oi, Scoob! Por favor, venha para o sábado pet em minha casa!\n",
            "Oi, Marlene! Por favor, venha para o sábado pet em minha casa!\n",
            "Oi, Zezinho! Por favor, venha para o sábado pet em minha casa!\n",
            "Oi, Cibele! Por favor, venha para o sábado pet em minha casa!\n",
            "Oi, Suely! Por favor, venha para o sábado pet em minha casa!\n"
          ]
        }
      ]
    },
    {
      "cell_type": "code",
      "source": [
        "Frutas = ['Banana', 'Maçã', 'Morango', ]\n",
        "'Morango' in Frutas"
      ],
      "metadata": {
        "colab": {
          "base_uri": "https://localhost:8080/"
        },
        "id": "IkJQmRizEqr6",
        "outputId": "ea9a417d-2bd5-4d96-e3d7-0ae6253dd72a"
      },
      "execution_count": null,
      "outputs": [
        {
          "output_type": "execute_result",
          "data": {
            "text/plain": [
              "True"
            ]
          },
          "metadata": {},
          "execution_count": 33
        }
      ]
    },
    {
      "cell_type": "code",
      "source": [
        "for par in range(100, 150, 2):\n",
        "  print(par, end=' ')"
      ],
      "metadata": {
        "colab": {
          "base_uri": "https://localhost:8080/"
        },
        "id": "nIxlk7X8FloU",
        "outputId": "c5ee0e7b-cac4-48c7-c3c7-ab409b518bca"
      },
      "execution_count": null,
      "outputs": [
        {
          "output_type": "stream",
          "name": "stdout",
          "text": [
            "100 102 104 106 108 110 112 114 116 118 120 122 124 126 128 130 132 134 136 138 140 142 144 146 148 "
          ]
        }
      ]
    },
    {
      "cell_type": "code",
      "source": [
        "temp = 40\n",
        "while temp > 25:\n",
        "  print(temp)\n",
        "  temp -= 1"
      ],
      "metadata": {
        "colab": {
          "base_uri": "https://localhost:8080/"
        },
        "id": "2NCHxYJFHC9s",
        "outputId": "4000f3a5-967a-4143-c1bb-99838d015064"
      },
      "execution_count": null,
      "outputs": [
        {
          "output_type": "stream",
          "name": "stdout",
          "text": [
            "40\n",
            "39\n",
            "38\n",
            "37\n",
            "36\n",
            "35\n",
            "34\n",
            "33\n",
            "32\n",
            "31\n",
            "30\n",
            "29\n",
            "28\n",
            "27\n",
            "26\n"
          ]
        }
      ]
    }
  ]
}