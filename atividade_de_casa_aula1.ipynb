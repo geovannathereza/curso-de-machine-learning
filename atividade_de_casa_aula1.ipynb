{
  "nbformat": 4,
  "nbformat_minor": 0,
  "metadata": {
    "colab": {
      "provenance": [],
      "authorship_tag": "ABX9TyMEQMIf83MuBA4u/7D/idAQ",
      "include_colab_link": true
    },
    "kernelspec": {
      "name": "python3",
      "display_name": "Python 3"
    },
    "language_info": {
      "name": "python"
    }
  },
  "cells": [
    {
      "cell_type": "markdown",
      "metadata": {
        "id": "view-in-github",
        "colab_type": "text"
      },
      "source": [
        "<a href=\"https://colab.research.google.com/github/geovannathereza/curso-de-machine-learning/blob/main/atividade_de_casa_aula1.ipynb\" target=\"_parent\"><img src=\"https://colab.research.google.com/assets/colab-badge.svg\" alt=\"Open In Colab\"/></a>"
      ]
    },
    {
      "cell_type": "markdown",
      "source": [
        "Aluna: Geovanna Thereza -Atividade Aula 1"
      ],
      "metadata": {
        "id": "h8uBMqp4daDm"
      }
    },
    {
      "cell_type": "markdown",
      "source": [
        "Execute os programas abaixo e comente o que acontece:"
      ],
      "metadata": {
        "id": "xduj6OryeAKS"
      }
    },
    {
      "cell_type": "code",
      "source": [
        "a = 3\n",
        "b = 4\n",
        "soma = a + b\n",
        "print(\"A soma de a + b é: soma\")"
      ],
      "metadata": {
        "colab": {
          "base_uri": "https://localhost:8080/"
        },
        "id": "OR0YFYbveDkl",
        "outputId": "397aa445-23ab-48f7-fbca-a3fc21f85ad5"
      },
      "execution_count": 1,
      "outputs": [
        {
          "output_type": "stream",
          "name": "stdout",
          "text": [
            "A soma de a + b é: soma\n"
          ]
        }
      ]
    },
    {
      "cell_type": "markdown",
      "source": [
        "o programa escreve a frase \"A soma de a + b é: soma\" mas não mostra o resultado da soma."
      ],
      "metadata": {
        "id": "FwVmPfJleMXV"
      }
    },
    {
      "cell_type": "code",
      "source": [
        "a = 3\n",
        "b = 4\n",
        "soma = a + b\n",
        "print(\"A soma de a + b é:\", soma)"
      ],
      "metadata": {
        "colab": {
          "base_uri": "https://localhost:8080/"
        },
        "id": "mLcT7lLxekUG",
        "outputId": "bdd07073-e65b-470e-dee5-1bcaf8da5262"
      },
      "execution_count": 2,
      "outputs": [
        {
          "output_type": "stream",
          "name": "stdout",
          "text": [
            "A soma de a + b é: 7\n"
          ]
        }
      ]
    },
    {
      "cell_type": "markdown",
      "source": [
        "O programa soma as variáveis a e b, guarda o valor na variável soma e escreve a frase \"A soma de a + b é:\" e em seguida mostra o valor da variável soma."
      ],
      "metadata": {
        "id": "v9jp3hRFfDP8"
      }
    },
    {
      "cell_type": "code",
      "source": [
        "a = 3\n",
        "b = 4\n",
        "soma = a + b\n",
        "print(\"A soma de\", a, \"+\", b, \"é:\", soma)"
      ],
      "metadata": {
        "colab": {
          "base_uri": "https://localhost:8080/"
        },
        "id": "_9gAWoEZfEk2",
        "outputId": "9449dfe6-2513-49dd-d10a-c72e50ebb0f9"
      },
      "execution_count": 3,
      "outputs": [
        {
          "output_type": "stream",
          "name": "stdout",
          "text": [
            "A soma de 3 + 4 é: 7\n"
          ]
        }
      ]
    },
    {
      "cell_type": "markdown",
      "source": [
        "O programa soma as variáveis a e b, armazena o valor na variável soma e escreve a frase \"A soma de\" em seguida mostra o valor da variável a, depois escreve \"+\" que é seguido do valor da variável b, por último o programa escreve \"é: \" junto com o valor da variável soma."
      ],
      "metadata": {
        "id": "DmkBaU0dfT-C"
      }
    },
    {
      "cell_type": "code",
      "source": [
        "PROMPT_1 = \"Digite o primeiro numero: \"\n",
        "PROMPT_2 = \"Digite o segundo numero: \"\n",
        "a = input(PROMPT_1)\n",
        "b = input(PROMPT_2)\n",
        "soma = a + b\n",
        "print(\"A soma de\", a, \"+\", b, \"é:\", soma)"
      ],
      "metadata": {
        "colab": {
          "base_uri": "https://localhost:8080/"
        },
        "id": "XNbzOD6ff-b2",
        "outputId": "68a54fa0-a7f6-4e42-ce97-6f9fc273f1c0"
      },
      "execution_count": 4,
      "outputs": [
        {
          "output_type": "stream",
          "name": "stdout",
          "text": [
            "Digite o primeiro numero: 2\n",
            "Digite o segundo numero: 3\n",
            "A soma de 2 + 3 é: 23\n"
          ]
        }
      ]
    },
    {
      "cell_type": "markdown",
      "source": [
        "O programa inicia com um input pedindo para o usuário inserir números e logo depois soma os valores de cada variável e escreve a frase \"A soma de\" em seguida mostra o valor da variável a, depois escreve \"+\" que é seguido do valor da variável b, por último o programa escreve \"é: \" junto com o valor da variável soma."
      ],
      "metadata": {
        "id": "RiuU4-TogVXt"
      }
    },
    {
      "cell_type": "code",
      "source": [
        "a_str = input(\"Digite o primeiro numero: \")\n",
        "b_str = input(\"Digite o segundo numero: \")\n",
        "a_int = int(a_str) # converte string/texto para inteiro\n",
        "b_int = int(b_str) # converte string/texto para inteiro\n",
        "soma = a_int + b_int\n",
        "print(\"A soma de\", a_int, \"+\", b_int, \"eh igual a\", soma)"
      ],
      "metadata": {
        "colab": {
          "base_uri": "https://localhost:8080/"
        },
        "id": "YXweqEdnhcDM",
        "outputId": "82084cce-d8d8-47d3-d9fd-a51ea75f60cb"
      },
      "execution_count": 5,
      "outputs": [
        {
          "output_type": "stream",
          "name": "stdout",
          "text": [
            "Digite o primeiro numero: 4\n",
            "Digite o segundo numero: 5\n",
            "A soma de 4 + 5 eh igual a 9\n"
          ]
        }
      ]
    },
    {
      "cell_type": "markdown",
      "source": [
        "O programa pede para que o usuário digite dois números, converte a string para inteiro, soma os dois números e depois escreve \"A soma de\" em seguida mostra o valor da variável a_int, depois escreve \"+\" que é seguido do valor da variável b_int, por último o programa escreve \"é: \" junto com o valor da variável soma."
      ],
      "metadata": {
        "id": "HuqrsjcehnIC"
      }
    },
    {
      "cell_type": "code",
      "source": [
        "a = int(input(\"Digite o primeiro numero: \"))\n",
        "b = int(input(\"Digite o segundo numero: \"))\n",
        "soma = a + b\n",
        "print(\"A soma de\", a, \"+\", b, \"eh igual a\", soma)"
      ],
      "metadata": {
        "colab": {
          "base_uri": "https://localhost:8080/"
        },
        "id": "FJFqqYeaiUU8",
        "outputId": "3dabcc10-6e92-414f-db81-0d6087909c5d"
      },
      "execution_count": 6,
      "outputs": [
        {
          "output_type": "stream",
          "name": "stdout",
          "text": [
            "Digite o primeiro numero: 1\n",
            "Digite o segundo numero: 2\n",
            "A soma de 1 + 2 eh igual a 3\n"
          ]
        }
      ]
    },
    {
      "cell_type": "markdown",
      "source": [
        "O programa inicia com input de um número inteiro para a variável a e b, soma os valores dessas duas variáveis, armazena na variável soma e depois escreve: \"A soma de\", mostra o valor de a, \"+\", seguido do valor de b, \"eh igual a\", e finaliza mostrando a variável soma"
      ],
      "metadata": {
        "id": "xLK9LLZuijtV"
      }
    }
  ]
}