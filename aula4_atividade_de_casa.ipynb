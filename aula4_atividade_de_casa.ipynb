{
  "nbformat": 4,
  "nbformat_minor": 0,
  "metadata": {
    "colab": {
      "provenance": [],
      "authorship_tag": "ABX9TyPZlakst2qBqWgbiTulK9BG",
      "include_colab_link": true
    },
    "kernelspec": {
      "name": "python3",
      "display_name": "Python 3"
    },
    "language_info": {
      "name": "python"
    }
  },
  "cells": [
    {
      "cell_type": "markdown",
      "metadata": {
        "id": "view-in-github",
        "colab_type": "text"
      },
      "source": [
        "<a href=\"https://colab.research.google.com/github/geovannathereza/curso-de-machine-learning/blob/main/aula4_atividade_de_casa.ipynb\" target=\"_parent\"><img src=\"https://colab.research.google.com/assets/colab-badge.svg\" alt=\"Open In Colab\"/></a>"
      ]
    },
    {
      "cell_type": "markdown",
      "source": [
        "Aluna: Geovanna Thereza Tavares\n",
        "\n",
        "1.  Crie uma variável chamada contador = 0. Enquanto\n",
        "counter for menor que 100, imprima os valores na tela."
      ],
      "metadata": {
        "id": "6ozHditOCND0"
      }
    },
    {
      "cell_type": "code",
      "source": [
        "contador = 0\n",
        "while contador < 100 :\n",
        "  contador += 1\n",
        "  print(contador)"
      ],
      "metadata": {
        "colab": {
          "base_uri": "https://localhost:8080/"
        },
        "id": "RGeEI_96Cb32",
        "outputId": "9b68aa73-813a-4a16-ee7a-bdac28f2fe5a"
      },
      "execution_count": 3,
      "outputs": [
        {
          "output_type": "stream",
          "name": "stdout",
          "text": [
            "1\n",
            "2\n",
            "3\n",
            "4\n",
            "5\n",
            "6\n",
            "7\n",
            "8\n",
            "9\n",
            "10\n",
            "11\n",
            "12\n",
            "13\n",
            "14\n",
            "15\n",
            "16\n",
            "17\n",
            "18\n",
            "19\n",
            "20\n",
            "21\n",
            "22\n",
            "23\n",
            "24\n",
            "25\n",
            "26\n",
            "27\n",
            "28\n",
            "29\n",
            "30\n",
            "31\n",
            "32\n",
            "33\n",
            "34\n",
            "35\n",
            "36\n",
            "37\n",
            "38\n",
            "39\n",
            "40\n",
            "41\n",
            "42\n",
            "43\n",
            "44\n",
            "45\n",
            "46\n",
            "47\n",
            "48\n",
            "49\n",
            "50\n",
            "51\n",
            "52\n",
            "53\n",
            "54\n",
            "55\n",
            "56\n",
            "57\n",
            "58\n",
            "59\n",
            "60\n",
            "61\n",
            "62\n",
            "63\n",
            "64\n",
            "65\n",
            "66\n",
            "67\n",
            "68\n",
            "69\n",
            "70\n",
            "71\n",
            "72\n",
            "73\n",
            "74\n",
            "75\n",
            "76\n",
            "77\n",
            "78\n",
            "79\n",
            "80\n",
            "81\n",
            "82\n",
            "83\n",
            "84\n",
            "85\n",
            "86\n",
            "87\n",
            "88\n",
            "89\n",
            "90\n",
            "91\n",
            "92\n",
            "93\n",
            "94\n",
            "95\n",
            "96\n",
            "97\n",
            "98\n",
            "99\n",
            "100\n"
          ]
        }
      ]
    },
    {
      "cell_type": "markdown",
      "source": [
        "2. Crie uma lista vazia e uma variável com valor 4.\n",
        "Enquanto o valor da variável for menor ou igual a 20,\n",
        "adicione à lista, apenas os valores pares e imprima a lista."
      ],
      "metadata": {
        "id": "hFfdlzMyDrB8"
      }
    },
    {
      "cell_type": "code",
      "source": [
        "lista = []\n",
        "valor = 4\n",
        "while valor <= 20:\n",
        "  if valor % 2 == 0:\n",
        "    lista = valor\n",
        "    print(lista)\n",
        "  valor += 1"
      ],
      "metadata": {
        "colab": {
          "base_uri": "https://localhost:8080/"
        },
        "id": "QbAgDY3xD6xe",
        "outputId": "59037ba7-2b53-4c82-a54e-f9d51a077a6f"
      },
      "execution_count": 12,
      "outputs": [
        {
          "output_type": "stream",
          "name": "stdout",
          "text": [
            "4\n",
            "6\n",
            "8\n",
            "10\n",
            "12\n",
            "14\n",
            "16\n",
            "18\n",
            "20\n"
          ]
        }
      ]
    },
    {
      "cell_type": "markdown",
      "source": [
        "3. Faça a correção dos erros no código abaixo e execute o\n",
        "programa."
      ],
      "metadata": {
        "id": "HXImZpGoJmR-"
      }
    },
    {
      "cell_type": "code",
      "source": [
        "temperatura = float(input('Qual a temperatura? '))\n",
        "if temperatura > 30:\n",
        "  print('Vista roupas leves.')\n",
        "else:\n",
        "  print('Busque seus casacos.')"
      ],
      "metadata": {
        "colab": {
          "base_uri": "https://localhost:8080/"
        },
        "id": "s6nuDLUeJn_2",
        "outputId": "5d69ca41-67aa-41c0-aaad-186259f3c85f"
      },
      "execution_count": 21,
      "outputs": [
        {
          "output_type": "stream",
          "name": "stdout",
          "text": [
            "Qual a temperatura? 28\n",
            "Busque seus casacos.\n"
          ]
        }
      ]
    },
    {
      "cell_type": "markdown",
      "source": [
        "4. Faça um programa que conte quantas vezes a letra \"s\"\n",
        "aparece na frase abaixo."
      ],
      "metadata": {
        "id": "LvN5aBUoKPDc"
      }
    },
    {
      "cell_type": "code",
      "source": [
        "tupla = tuple('\"Educação não transforma o mundo. Educação muda pessoas. Pessoas transformam o mundo.\" (Paulo Freire)')\n",
        "tupla.count('s')"
      ],
      "metadata": {
        "colab": {
          "base_uri": "https://localhost:8080/"
        },
        "id": "CINSSwrmKcPv",
        "outputId": "f69843ed-7036-4753-f0d3-99c19072a142"
      },
      "execution_count": 30,
      "outputs": [
        {
          "output_type": "execute_result",
          "data": {
            "text/plain": [
              "8"
            ]
          },
          "metadata": {},
          "execution_count": 30
        }
      ]
    },
    {
      "cell_type": "markdown",
      "source": [
        "5. O quinto quesito pedia a mesma coisa que o 4° com a mesma frase"
      ],
      "metadata": {
        "id": "qU6oGws3Qg7m"
      }
    },
    {
      "cell_type": "markdown",
      "source": [
        "6. Considere a lista abaixo e retorne apenas os elementos\n",
        "cujo índice for maior que 5."
      ],
      "metadata": {
        "id": "9puSFKrORDA6"
      }
    },
    {
      "cell_type": "code",
      "source": [
        "lista = ['a', 'b', 'c', 'd', 'e', 'f', 'g', 'h']\n",
        "print(lista[6:])"
      ],
      "metadata": {
        "colab": {
          "base_uri": "https://localhost:8080/"
        },
        "id": "e3RXMZZ0RYJZ",
        "outputId": "8953efb2-fffe-44b4-c945-45baeebd085a"
      },
      "execution_count": 31,
      "outputs": [
        {
          "output_type": "stream",
          "name": "stdout",
          "text": [
            "['g', 'h']\n"
          ]
        }
      ]
    },
    {
      "cell_type": "markdown",
      "source": [
        "7. Crie um terceiro dicionário com as chaves do dicionário 1\n",
        "e os valores do dicionário 2 abaixo.\n",
        "dict1 = {'a':1,'b':2} dict2 = {'c':4,'d':5}"
      ],
      "metadata": {
        "id": "PfHHmBDHRzvW"
      }
    },
    {
      "cell_type": "code",
      "source": [
        "dict3 = {'a':4, 'b':5}"
      ],
      "metadata": {
        "id": "LcHTbazrR7kh"
      },
      "execution_count": 34,
      "outputs": []
    },
    {
      "cell_type": "markdown",
      "source": [
        "8. Digite o código"
      ],
      "metadata": {
        "id": "vV7xwa5ESWZX"
      }
    },
    {
      "cell_type": "code",
      "source": [
        "for um_valor in range(10):\n",
        "  print(um_valor)"
      ],
      "metadata": {
        "colab": {
          "base_uri": "https://localhost:8080/"
        },
        "id": "qeSe1mv1Sc7g",
        "outputId": "7b115d85-e0b4-4010-ba5e-b7bd6970e24a"
      },
      "execution_count": 32,
      "outputs": [
        {
          "output_type": "stream",
          "name": "stdout",
          "text": [
            "0\n",
            "1\n",
            "2\n",
            "3\n",
            "4\n",
            "5\n",
            "6\n",
            "7\n",
            "8\n",
            "9\n"
          ]
        }
      ]
    },
    {
      "cell_type": "markdown",
      "source": [
        "9. Digite o código"
      ],
      "metadata": {
        "id": "9YwXuOxZSg7m"
      }
    },
    {
      "cell_type": "code",
      "source": [
        "for um_char in \"Venha para a festa\":\n",
        "  print(um_char)"
      ],
      "metadata": {
        "colab": {
          "base_uri": "https://localhost:8080/"
        },
        "id": "vRb3e0Y4Sjlf",
        "outputId": "a307ea71-a9e7-4cf1-9c3c-a25cad4b81ae"
      },
      "execution_count": 33,
      "outputs": [
        {
          "output_type": "stream",
          "name": "stdout",
          "text": [
            "V\n",
            "e\n",
            "n\n",
            "h\n",
            "a\n",
            " \n",
            "p\n",
            "a\n",
            "r\n",
            "a\n",
            " \n",
            "a\n",
            " \n",
            "f\n",
            "e\n",
            "s\n",
            "t\n",
            "a\n"
          ]
        }
      ]
    }
  ]
}