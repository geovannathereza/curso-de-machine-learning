{
  "nbformat": 4,
  "nbformat_minor": 0,
  "metadata": {
    "colab": {
      "provenance": [],
      "authorship_tag": "ABX9TyN4C7TSzjAsPncY8opf4ULS",
      "include_colab_link": true
    },
    "kernelspec": {
      "name": "python3",
      "display_name": "Python 3"
    },
    "language_info": {
      "name": "python"
    }
  },
  "cells": [
    {
      "cell_type": "markdown",
      "metadata": {
        "id": "view-in-github",
        "colab_type": "text"
      },
      "source": [
        "<a href=\"https://colab.research.google.com/github/geovannathereza/curso-de-machine-learning/blob/main/atividade_de_casa_aula5.ipynb\" target=\"_parent\"><img src=\"https://colab.research.google.com/assets/colab-badge.svg\" alt=\"Open In Colab\"/></a>"
      ]
    },
    {
      "cell_type": "code",
      "execution_count": null,
      "metadata": {
        "id": "7zQIM8OkSoZq"
      },
      "outputs": [],
      "source": [
        "class Pessoa():\n",
        "\n",
        "  def __init__(self, name, age): #variáveis da função\n",
        "    self.nome=name #atributo da classe\n",
        "    self.idade=age #atributo da classe\n",
        "\n",
        "  def nascimento(self, idade): #variável da função\n",
        "    return(2022-idade) #retorna o ano que a pessoa nasceu"
      ]
    },
    {
      "cell_type": "code",
      "source": [
        "pessoa1 = Pessoa('Maria', 35) #criando um objeto a partir da classe Pessoa()\n",
        "pessoa1.nome #chamando um atributo do objeto\n",
        "pessoa1.idade #chamando um atributo do objeto\n",
        "pessoa1.nascimento(35) #chamando um método do objeto"
      ],
      "metadata": {
        "colab": {
          "base_uri": "https://localhost:8080/"
        },
        "id": "QmljFTaOTBEE",
        "outputId": "6fb12a25-1235-4119-b611-94b66f39d5a8"
      },
      "execution_count": null,
      "outputs": [
        {
          "output_type": "execute_result",
          "data": {
            "text/plain": [
              "1987"
            ]
          },
          "metadata": {},
          "execution_count": 2
        }
      ]
    },
    {
      "cell_type": "code",
      "source": [
        "listaDePessoas=[] #criando lista vazia\n",
        "for i in range(5): #frequencia de repetição do loop for, segundo a questão\n",
        "  nome = str(input('Nome: ')) #entrada de dados\n",
        "  idade = int(input('Idade: ')) #entrada de dados\n",
        "  pessoa = Pessoa(nome, idade) #criando objeto pessoa com a classe Pessoa()\n",
        "  listaDePessoas.append(pessoa) #cada elemento da lista é um objeto com métodos() e atributos\n",
        "\n",
        "for objeto in range(len(listaDePessoas)): #acessando cada objeto da lista de objetos pessoa\n",
        "#Acessando os atributos nome e idade de cada objeto\n",
        "  print('Nome: %s, idade: %d ' %(listaDePessoas[objeto].nome, listaDePessoas[objeto].idade))"
      ],
      "metadata": {
        "colab": {
          "base_uri": "https://localhost:8080/"
        },
        "id": "BKudw83gT7m-",
        "outputId": "d4e7af3f-67bd-4704-b87a-50352a461e98"
      },
      "execution_count": null,
      "outputs": [
        {
          "output_type": "stream",
          "name": "stdout",
          "text": [
            "Nome: Geovanna\n",
            "Idade: 18\n",
            "Nome: Ana\n",
            "Idade: 23\n",
            "Nome: Tamires\n",
            "Idade: 20\n",
            "Nome: Maria\n",
            "Idade: 17\n",
            "Nome: Joana\n",
            "Idade: 25\n",
            "Nome: Geovanna, idade: 18 \n",
            "Nome: Ana, idade: 23 \n",
            "Nome: Tamires, idade: 20 \n",
            "Nome: Maria, idade: 17 \n",
            "Nome: Joana, idade: 25 \n"
          ]
        }
      ]
    },
    {
      "cell_type": "code",
      "source": [
        "class Pessoa():\n",
        "  def __init__(self, n, i):\n",
        "    self.nome = n\n",
        "    self.idade = i\n",
        "\n",
        "  def apresentacao(self):\n",
        "    print('Seja bem vindo ao SENAC!')\n",
        "\n",
        "\n",
        "\n",
        "class PessoaFisica(Pessoa):\n",
        "  def __init__(self, n, i, cpf):\n",
        "    super().__init__(n, i)\n",
        "    self.cpf = cpf\n",
        "\n",
        "  def apresentacao(self):\n",
        "    print(\"Seja bem vindo ao SENAC!\")\n",
        "\n",
        "  def impostoDeRenda(self, salario):\n",
        "    salario = int(input('Insira seu salario: '))\n",
        "    ir = salario*0.015\n",
        "    print(\" O valor do seu imposto de renda é R$\", ir)\n",
        "    return ir\n",
        "\n",
        "\n",
        "\n",
        "class PessoaJuridica(Pessoa):\n",
        "  def __init__(self, n, i, cnpj):\n",
        "    super().__init__(n, i)\n",
        "    self.cnpj = cnpj\n",
        "  \n",
        "  def apresentacao(self):\n",
        "    print(\"Seja bem vindo ao SENAC!\")\n",
        "\n",
        "  def impostoDeRenda1(self, salario):\n",
        "    salario = int(input('Insira seu salario: '))\n",
        "    porteDaEmpresa = int(input('Digite 1 para empresa pequena, 2 para empresa média ou 3 para empresa grande: '))\n",
        "    if porteDaEmpresa == 1:\n",
        "      ir = salario*0.10\n",
        "    elif porteDaEmpresa == 2:\n",
        "      ir = salario*0.15\n",
        "    elif porteDaEmpresa == 3:\n",
        "      ir = salario*0.20\n",
        "    else:\n",
        "      print('Porte de empresa incorreto')\n",
        "\n",
        "    print(\" O valor do seu imposto de renda é R$\", ir)\n",
        "    return ir\n",
        "\n",
        "nome = str(input(\"Nome: \"))\n",
        "idade = int(input(\"Idade: \"))\n",
        "tipo = int(input('Insira 1 para pessoa física ou 2 para pessoa juridica: '))\n",
        "\n",
        "if tipo == 1:\n",
        "  cpf = int(input(\"CPF: \"))\n",
        "  pessoa1 = Pessoa(nome, idade)\n",
        "  pessoaf = PessoaFisica(nome, idade, cpf)\n",
        "  print('')\n",
        "  pessoa1.apresentacao()\n",
        "  pessoaf.impostoDeRenda()\n",
        "elif tipo == 2:\n",
        "  cnpj = int(input(\"CNPJ: \"))\n",
        "  pessoa1 = Pessoa(nome, idade)\n",
        "  pessoaj = PessoaJuridica(nome, idade, cnpj)\n",
        "  print('')\n",
        "  pessoa1.apresentacao()\n",
        "  pessoaj.impostoDeRenda1(salario)\n",
        "else:\n",
        "  print('Erro!')"
      ],
      "metadata": {
        "id": "Zwro6wsUUsOL",
        "colab": {
          "base_uri": "https://localhost:8080/"
        },
        "outputId": "ab14828b-995b-47ea-960d-b6d499181039"
      },
      "execution_count": 54,
      "outputs": [
        {
          "output_type": "stream",
          "name": "stdout",
          "text": [
            "Nome: Geovanna\n",
            "Idade: 18\n",
            "Insira 1 para pessoa física ou 2 para pessoa juridica: 2\n",
            "CNPJ: 123\n",
            "\n",
            "Seja bem vindo ao SENAC!\n",
            "Insira seu salario: 2500\n",
            "Digite 1 para empresa pequena, 2 para empresa média ou 3 para empresa grande: 3\n",
            " O valor do seu imposto de renda é R$ 500.0\n"
          ]
        }
      ]
    }
  ]
}