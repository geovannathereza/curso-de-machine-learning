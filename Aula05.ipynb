{
  "nbformat": 4,
  "nbformat_minor": 0,
  "metadata": {
    "colab": {
      "provenance": [],
      "authorship_tag": "ABX9TyNGMtuwOeZxuhW8S1Uqt7uI",
      "include_colab_link": true
    },
    "kernelspec": {
      "name": "python3",
      "display_name": "Python 3"
    },
    "language_info": {
      "name": "python"
    }
  },
  "cells": [
    {
      "cell_type": "markdown",
      "metadata": {
        "id": "view-in-github",
        "colab_type": "text"
      },
      "source": [
        "<a href=\"https://colab.research.google.com/github/geovannathereza/curso-de-machine-learning/blob/main/Aula05.ipynb\" target=\"_parent\"><img src=\"https://colab.research.google.com/assets/colab-badge.svg\" alt=\"Open In Colab\"/></a>"
      ]
    },
    {
      "cell_type": "markdown",
      "source": [
        "Funções e Métodos"
      ],
      "metadata": {
        "id": "AI1qIa1nquxa"
      }
    },
    {
      "cell_type": "code",
      "source": [
        "def funcaoLeitura():\n",
        "  for i in range(5):\n",
        "    print('Número ', i)\n",
        "\n",
        "funcaoLeitura()"
      ],
      "metadata": {
        "colab": {
          "base_uri": "https://localhost:8080/"
        },
        "id": "rk3p5QA8q0tb",
        "outputId": "f7b79831-fd8c-4983-a0ba-a877e4172f96"
      },
      "execution_count": 1,
      "outputs": [
        {
          "output_type": "stream",
          "name": "stdout",
          "text": [
            "Número  0\n",
            "Número  1\n",
            "Número  2\n",
            "Número  3\n",
            "Número  4\n"
          ]
        }
      ]
    },
    {
      "cell_type": "markdown",
      "source": [
        "Função para somar dois números"
      ],
      "metadata": {
        "id": "Gjl1LHyVrQAX"
      }
    },
    {
      "cell_type": "code",
      "source": [
        "def addNum(n1, n2):\n",
        "  print('O primeiro número é: ', n1)\n",
        "  print('O segundo número é: ', n2)\n",
        "  print('A somas dos números é: ', n1 + n2)\n",
        "\n",
        "addNum(45, 6)"
      ],
      "metadata": {
        "colab": {
          "base_uri": "https://localhost:8080/"
        },
        "id": "j-AVN3AsrTyM",
        "outputId": "a77f9651-f389-4f2d-c8fa-2324e78a862f"
      },
      "execution_count": 2,
      "outputs": [
        {
          "output_type": "stream",
          "name": "stdout",
          "text": [
            "O primeiro número é:  45\n",
            "O segundo número é:  6\n",
            "A somas dos números é:  51\n"
          ]
        }
      ]
    },
    {
      "cell_type": "markdown",
      "source": [
        "Variáveis globais e locais"
      ],
      "metadata": {
        "id": "vuD62FOLr4Hj"
      }
    },
    {
      "cell_type": "code",
      "source": [
        "varGlobal = 10\n",
        "def multiplicacao(num1, num2):\n",
        "  varGlobal = (num1 * num2)\n",
        "  print(\"Variável da função Multiplica: \", varGlobal)\n",
        "\n",
        "multiplicacao(5, 4)\n",
        "print(varGlobal)"
      ],
      "metadata": {
        "colab": {
          "base_uri": "https://localhost:8080/"
        },
        "id": "KBqWOXYWr6vH",
        "outputId": "cadcb991-92e9-429a-af46-75d232d0f358"
      },
      "execution_count": 3,
      "outputs": [
        {
          "output_type": "stream",
          "name": "stdout",
          "text": [
            "Variável da função Multiplica:  20\n",
            "10\n"
          ]
        }
      ]
    },
    {
      "cell_type": "code",
      "source": [
        "varGlobal = 10\n",
        "def multiplica(num1, num2):\n",
        "  varLocal = num1 * num2\n",
        "  print('Variável da função Multiplica: ', varLocal)\n",
        "\n",
        "multiplica(5, 4)"
      ],
      "metadata": {
        "colab": {
          "base_uri": "https://localhost:8080/"
        },
        "id": "hNe1_DtDtQkw",
        "outputId": "e911a416-dfc1-4b16-e4b8-150036f47e1c"
      },
      "execution_count": 4,
      "outputs": [
        {
          "output_type": "stream",
          "name": "stdout",
          "text": [
            "Variável da função Multiplica:  20\n"
          ]
        }
      ]
    },
    {
      "cell_type": "code",
      "source": [
        "print(varLocal) #variável existe somente dentro da função"
      ],
      "metadata": {
        "colab": {
          "base_uri": "https://localhost:8080/",
          "height": 165
        },
        "id": "8KvCJkOUt7YN",
        "outputId": "0711552d-a786-41ab-83e7-b66ca4dd24ae"
      },
      "execution_count": 5,
      "outputs": [
        {
          "output_type": "error",
          "ename": "NameError",
          "evalue": "ignored",
          "traceback": [
            "\u001b[0;31m---------------------------------------------------------------------------\u001b[0m",
            "\u001b[0;31mNameError\u001b[0m                                 Traceback (most recent call last)",
            "\u001b[0;32m<ipython-input-5-6ff1d360d399>\u001b[0m in \u001b[0;36m<module>\u001b[0;34m\u001b[0m\n\u001b[0;32m----> 1\u001b[0;31m \u001b[0mprint\u001b[0m\u001b[0;34m(\u001b[0m\u001b[0mvarLocal\u001b[0m\u001b[0;34m)\u001b[0m\u001b[0;34m\u001b[0m\u001b[0;34m\u001b[0m\u001b[0m\n\u001b[0m",
            "\u001b[0;31mNameError\u001b[0m: name 'varLocal' is not defined"
          ]
        }
      ]
    },
    {
      "cell_type": "code",
      "source": [
        "for i in range(5): print(i)"
      ],
      "metadata": {
        "colab": {
          "base_uri": "https://localhost:8080/"
        },
        "id": "iHVpaxJ9uK3U",
        "outputId": "4fbe96b2-248e-474f-b94b-fa35426d529d"
      },
      "execution_count": 6,
      "outputs": [
        {
          "output_type": "stream",
          "name": "stdout",
          "text": [
            "0\n",
            "1\n",
            "2\n",
            "3\n",
            "4\n"
          ]
        }
      ]
    },
    {
      "cell_type": "markdown",
      "source": [
        "Criando uma função com outras funções"
      ],
      "metadata": {
        "id": "ajxlSctvuRH1"
      }
    },
    {
      "cell_type": "code",
      "source": [
        "def separarTexto(texto): return texto.split()\n",
        "\n",
        "separarTexto('Cibele Maria')"
      ],
      "metadata": {
        "colab": {
          "base_uri": "https://localhost:8080/"
        },
        "id": "VtdPnYv8uaBm",
        "outputId": "f9e2f354-3dbe-4900-beb9-8304b56f8921"
      },
      "execution_count": 7,
      "outputs": [
        {
          "output_type": "execute_result",
          "data": {
            "text/plain": [
              "['Cibele', 'Maria']"
            ]
          },
          "metadata": {},
          "execution_count": 7
        }
      ]
    },
    {
      "cell_type": "code",
      "source": [
        "token = separarTexto('Cibele Maria')\n",
        "\n",
        "print(token)"
      ],
      "metadata": {
        "colab": {
          "base_uri": "https://localhost:8080/"
        },
        "id": "rGqvyEBWusxo",
        "outputId": "c084822a-14cd-4fcd-f574-41588431bdcf"
      },
      "execution_count": 8,
      "outputs": [
        {
          "output_type": "stream",
          "name": "stdout",
          "text": [
            "['Cibele', 'Maria']\n"
          ]
        }
      ]
    },
    {
      "cell_type": "markdown",
      "source": [
        "Quando não sabemos a quantidade de parâmetros basta usar o * no parâmetro"
      ],
      "metadata": {
        "id": "d4t0sUQ1u5u0"
      }
    },
    {
      "cell_type": "code",
      "source": [
        "def variosParametros(*parametros):\n",
        "  for n, item in enumerate(parametros):\n",
        "    print('O parâmetro %d é: ' %(n), item)\n",
        "  return;\n",
        "\n",
        "variosParametros()\n",
        "\n",
        "variosParametros('Pitomba', 'Jambo', 'Siriguela', 'Umbu')"
      ],
      "metadata": {
        "colab": {
          "base_uri": "https://localhost:8080/"
        },
        "id": "Rzz4lq4Ru_96",
        "outputId": "355faacb-1dc4-401a-db8a-6994e1d6e892"
      },
      "execution_count": 9,
      "outputs": [
        {
          "output_type": "stream",
          "name": "stdout",
          "text": [
            "O parâmetro 0 é:  Pitomba\n",
            "O parâmetro 1 é:  Jambo\n",
            "O parâmetro 2 é:  Siriguela\n",
            "O parâmetro 3 é:  Umbu\n"
          ]
        }
      ]
    },
    {
      "cell_type": "markdown",
      "source": [
        "Utilizando pacote com conjunto de funções matemáticas "
      ],
      "metadata": {
        "id": "LuVFeHWSwTO7"
      }
    },
    {
      "cell_type": "code",
      "source": [
        "import math\n",
        "\n",
        "def numPrimo(num):\n",
        "  if (num % 2) == 0 and num > 2:\n",
        "    return('Este número não é primo')\n",
        "  for i in range(3, int(math.sqrt(num)) + 1, 2):\n",
        "    if (num % i) == 0:\n",
        "      return ('Este número não é primo')\n",
        "  return('Este número é primo!')\n",
        "    \n",
        "numPrimo(47)"
      ],
      "metadata": {
        "colab": {
          "base_uri": "https://localhost:8080/",
          "height": 35
        },
        "id": "A50i_okPwl05",
        "outputId": "60cda759-bd96-4dac-b30f-8dbdb70bc30b"
      },
      "execution_count": 12,
      "outputs": [
        {
          "output_type": "execute_result",
          "data": {
            "text/plain": [
              "'Este número é primo!'"
            ],
            "application/vnd.google.colaboratory.intrinsic+json": {
              "type": "string"
            }
          },
          "metadata": {},
          "execution_count": 12
        }
      ]
    },
    {
      "cell_type": "markdown",
      "source": [
        "Calculadora"
      ],
      "metadata": {
        "id": "z_5306EXxw30"
      }
    },
    {
      "cell_type": "code",
      "source": [
        "def soma(n1, n2):\n",
        "  return n1+n2\n",
        "\n",
        "def subtrai(n1, n2):\n",
        "  return n1-n2\n",
        "\n",
        "def multiplica(n1, n2):\n",
        "  return n1*n2\n",
        "\n",
        "def divide(n1,n2):\n",
        "  return n1/n2\n",
        "\n",
        "while True:\n",
        "  print(\"+==================+\")\n",
        "  print(\"| MENU DE OPERAÇÕES\")\n",
        "  print(\"| 1 - somar \") \n",
        "  print(\"| 2 - subtrair \")\n",
        "  print(\"| 3 - multiplicar \")\n",
        "  print(\"| 4 - dividir \")\n",
        "  print(\"| 0 - sair \")\n",
        "  print(\"+==================+\")\n",
        "  op = int(input())\n",
        "  if op==0:\n",
        "    break\n",
        "  \n",
        "  n1 = int(input(\"Primeiro número: \"))\n",
        "  n2 = int(input(\"Segundo número: \"))\n",
        "\n",
        "  if op==1:\n",
        "    print(\"O resultado da soma é: \", soma(n1, n2))\n",
        "  elif op==2:\n",
        "    print(\"O resultado da subtração é: \", subtrai(n1,n2))\n",
        "  elif op==3:\n",
        "    print(\"O resultado da multiplicação é: \", multiplica(n1,n2))\n",
        "  elif op==4:\n",
        "    print(\"O resultado da divisão é: \", divide(n1,n2))"
      ],
      "metadata": {
        "colab": {
          "base_uri": "https://localhost:8080/"
        },
        "id": "Hic1kI3gx0_b",
        "outputId": "aaf25292-bbf6-4628-a45d-cec11de234a2"
      },
      "execution_count": 13,
      "outputs": [
        {
          "name": "stdout",
          "output_type": "stream",
          "text": [
            "+==================+\n",
            "| MENU DE OPERAÇÕES\n",
            "| 1 - somar \n",
            "| 2 - subtrair \n",
            "| 3 - multiplicar \n",
            "| 4 - dividir \n",
            "| 0 - sair \n",
            "+==================+\n",
            "1\n",
            "Primeiro número: 2\n",
            "Segundo número: 5\n",
            "O resultado da soma é:  7\n",
            "+==================+\n",
            "| MENU DE OPERAÇÕES\n",
            "| 1 - somar \n",
            "| 2 - subtrair \n",
            "| 3 - multiplicar \n",
            "| 4 - dividir \n",
            "| 0 - sair \n",
            "+==================+\n",
            "0\n"
          ]
        }
      ]
    },
    {
      "cell_type": "code",
      "source": [
        "class Pessoa():\n",
        "  def __init__(self, n, i):\n",
        "    self.nome = n\n",
        "    self.idade = i\n",
        "\n",
        "  def apresentacao(self):\n",
        "    print(\"Seja bem vindo ao sistema SENAC!\")\n",
        "\n",
        "class PessoaFisica():\n",
        "  def __init__(self, n, i, cpf):\n",
        "    self.nome = n\n",
        "    self.idade = i\n",
        "    self.cpf = cpf\n",
        "\n",
        "  def apresentacao(self):\n",
        "    print(\"Seja bem vindo ao sistema SENAC!\")\n",
        "\n",
        "  def impostoDeRenda(self, *salario):\n",
        "    s = sum(salario)\n",
        "    ir = s*0.015\n",
        "    print(\" O valor do seu imposto de renda é R$\", ir)\n",
        "    return ir\n",
        "\n",
        "class PessoaJuridica():\n",
        "  def __init__(self, n, i, cnpj):\n",
        "    self.nome = n\n",
        "    self.idade = i\n",
        "    self.cnpj = cnpj\n",
        "  \n",
        "  def apresentacao(self):\n",
        "    print(\"Seja bem vindo ao Python!\")\n",
        "  def impostoDeRenda(self, salario):\n",
        "    ir = salario*0.10\n",
        "    print(\" O valor do seu imposto de renda é R$\", ir)\n",
        "    return ir\n",
        "\n",
        "nome = str(input(\"Nome: \"))\n",
        "age = int(input(\"Idade: \"))\n",
        "cnpj = int(input(\"CNPJ: \"))\n",
        "serumaninho = Pessoa(nome, age)\n",
        "comunidade = PessoaJuridica(nome, age, cnpj)"
      ],
      "metadata": {
        "colab": {
          "base_uri": "https://localhost:8080/"
        },
        "id": "XKWbU4kGzTup",
        "outputId": "086c3b33-6800-4407-fc4d-62894529224a"
      },
      "execution_count": 14,
      "outputs": [
        {
          "name": "stdout",
          "output_type": "stream",
          "text": [
            "Nome: Geovanna\n",
            "Idade: 18\n",
            "CNPJ: 0000\n"
          ]
        }
      ]
    },
    {
      "cell_type": "code",
      "source": [
        "serumaninho.nome"
      ],
      "metadata": {
        "colab": {
          "base_uri": "https://localhost:8080/",
          "height": 35
        },
        "id": "0wH64qbK0ZjD",
        "outputId": "cde69715-0f3e-4dda-fff7-318046fae3f7"
      },
      "execution_count": 15,
      "outputs": [
        {
          "output_type": "execute_result",
          "data": {
            "text/plain": [
              "'Geovanna'"
            ],
            "application/vnd.google.colaboratory.intrinsic+json": {
              "type": "string"
            }
          },
          "metadata": {},
          "execution_count": 15
        }
      ]
    },
    {
      "cell_type": "code",
      "source": [
        "serumaninho.idade"
      ],
      "metadata": {
        "colab": {
          "base_uri": "https://localhost:8080/"
        },
        "id": "q9ZK26o60iZg",
        "outputId": "c572b100-9000-464b-beb3-9f46519eec34"
      },
      "execution_count": 16,
      "outputs": [
        {
          "output_type": "execute_result",
          "data": {
            "text/plain": [
              "18"
            ]
          },
          "metadata": {},
          "execution_count": 16
        }
      ]
    },
    {
      "cell_type": "code",
      "source": [
        "serumaninho.apresentacao()"
      ],
      "metadata": {
        "colab": {
          "base_uri": "https://localhost:8080/"
        },
        "id": "gNow93gN0nMg",
        "outputId": "b667275e-a0e0-478e-a742-8f69f86cb32b"
      },
      "execution_count": 17,
      "outputs": [
        {
          "output_type": "stream",
          "name": "stdout",
          "text": [
            "Seja bem vindo ao sistema SENAC!\n"
          ]
        }
      ]
    },
    {
      "cell_type": "code",
      "source": [
        "salario = float(input('receita: '))\n",
        "comunidade.impostoDeRenda(salario)\n",
        "print('Fim!')"
      ],
      "metadata": {
        "colab": {
          "base_uri": "https://localhost:8080/"
        },
        "id": "WcRV4ZiN0s4K",
        "outputId": "8a69daeb-84c1-4c3a-ca29-81736053ee20"
      },
      "execution_count": 18,
      "outputs": [
        {
          "output_type": "stream",
          "name": "stdout",
          "text": [
            "receita: 50000\n",
            " O valor do seu imposto de renda é R$ 5000.0\n",
            "Fim!\n"
          ]
        }
      ]
    }
  ]
}